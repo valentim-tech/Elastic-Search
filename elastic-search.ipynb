{
 "cells": [
  {
   "cell_type": "markdown",
   "metadata": {},
   "source": [
    "### Installing Dependencies"
   ]
  },
  {
   "cell_type": "code",
   "execution_count": 21,
   "metadata": {},
   "outputs": [
    {
     "name": "stdout",
     "output_type": "stream",
     "text": [
      "Requirement already satisfied: asttokens==3.0.0 in c:\\users\\renato.valentim\\appdata\\roaming\\python\\python39\\site-packages (from -r requirements.txt (line 1)) (3.0.0)\n",
      "Requirement already satisfied: certifi==2025.1.31 in c:\\users\\renato.valentim\\appdata\\local\\programs\\python\\python39\\lib\\site-packages (from -r requirements.txt (line 2)) (2025.1.31)\n",
      "Requirement already satisfied: colorama==0.4.6 in c:\\users\\renato.valentim\\appdata\\roaming\\python\\python39\\site-packages (from -r requirements.txt (line 3)) (0.4.6)\n",
      "Requirement already satisfied: comm==0.2.2 in c:\\users\\renato.valentim\\appdata\\roaming\\python\\python39\\site-packages (from -r requirements.txt (line 4)) (0.2.2)\n",
      "Requirement already satisfied: debugpy==1.8.12 in c:\\users\\renato.valentim\\appdata\\roaming\\python\\python39\\site-packages (from -r requirements.txt (line 5)) (1.8.12)\n",
      "Requirement already satisfied: decorator==5.1.1 in c:\\users\\renato.valentim\\appdata\\roaming\\python\\python39\\site-packages (from -r requirements.txt (line 6)) (5.1.1)\n",
      "Requirement already satisfied: elastic-transport==8.17.0 in c:\\users\\renato.valentim\\appdata\\local\\programs\\python\\python39\\lib\\site-packages (from -r requirements.txt (line 7)) (8.17.0)\n",
      "Requirement already satisfied: elasticsearch==8.17.1 in c:\\users\\renato.valentim\\appdata\\local\\programs\\python\\python39\\lib\\site-packages (from -r requirements.txt (line 8)) (8.17.1)\n",
      "Requirement already satisfied: exceptiongroup==1.2.2 in c:\\users\\renato.valentim\\appdata\\roaming\\python\\python39\\site-packages (from -r requirements.txt (line 9)) (1.2.2)\n",
      "Requirement already satisfied: executing==2.2.0 in c:\\users\\renato.valentim\\appdata\\roaming\\python\\python39\\site-packages (from -r requirements.txt (line 10)) (2.2.0)\n",
      "Requirement already satisfied: importlib_metadata==8.6.1 in c:\\users\\renato.valentim\\appdata\\roaming\\python\\python39\\site-packages (from -r requirements.txt (line 11)) (8.6.1)\n",
      "Requirement already satisfied: ipykernel==6.29.5 in c:\\users\\renato.valentim\\appdata\\roaming\\python\\python39\\site-packages (from -r requirements.txt (line 12)) (6.29.5)\n",
      "Requirement already satisfied: ipython==8.18.1 in c:\\users\\renato.valentim\\appdata\\roaming\\python\\python39\\site-packages (from -r requirements.txt (line 13)) (8.18.1)\n",
      "Requirement already satisfied: jedi==0.19.2 in c:\\users\\renato.valentim\\appdata\\roaming\\python\\python39\\site-packages (from -r requirements.txt (line 14)) (0.19.2)\n",
      "Requirement already satisfied: jupyter_client==8.6.3 in c:\\users\\renato.valentim\\appdata\\roaming\\python\\python39\\site-packages (from -r requirements.txt (line 15)) (8.6.3)\n",
      "Requirement already satisfied: jupyter_core==5.7.2 in c:\\users\\renato.valentim\\appdata\\roaming\\python\\python39\\site-packages (from -r requirements.txt (line 16)) (5.7.2)\n",
      "Requirement already satisfied: matplotlib-inline==0.1.7 in c:\\users\\renato.valentim\\appdata\\roaming\\python\\python39\\site-packages (from -r requirements.txt (line 17)) (0.1.7)\n",
      "Requirement already satisfied: nest-asyncio==1.6.0 in c:\\users\\renato.valentim\\appdata\\roaming\\python\\python39\\site-packages (from -r requirements.txt (line 18)) (1.6.0)\n",
      "Requirement already satisfied: numpy==2.0.2 in c:\\users\\renato.valentim\\appdata\\local\\programs\\python\\python39\\lib\\site-packages (from -r requirements.txt (line 19)) (2.0.2)\n",
      "Requirement already satisfied: packaging==24.2 in c:\\users\\renato.valentim\\appdata\\roaming\\python\\python39\\site-packages (from -r requirements.txt (line 20)) (24.2)\n",
      "Requirement already satisfied: pandas==2.2.3 in c:\\users\\renato.valentim\\appdata\\local\\programs\\python\\python39\\lib\\site-packages (from -r requirements.txt (line 21)) (2.2.3)\n",
      "Requirement already satisfied: parso==0.8.4 in c:\\users\\renato.valentim\\appdata\\roaming\\python\\python39\\site-packages (from -r requirements.txt (line 22)) (0.8.4)\n",
      "Requirement already satisfied: platformdirs==4.3.6 in c:\\users\\renato.valentim\\appdata\\roaming\\python\\python39\\site-packages (from -r requirements.txt (line 23)) (4.3.6)\n",
      "Requirement already satisfied: prompt_toolkit==3.0.50 in c:\\users\\renato.valentim\\appdata\\roaming\\python\\python39\\site-packages (from -r requirements.txt (line 24)) (3.0.50)\n",
      "Requirement already satisfied: psutil==7.0.0 in c:\\users\\renato.valentim\\appdata\\roaming\\python\\python39\\site-packages (from -r requirements.txt (line 25)) (7.0.0)\n",
      "Requirement already satisfied: pure_eval==0.2.3 in c:\\users\\renato.valentim\\appdata\\roaming\\python\\python39\\site-packages (from -r requirements.txt (line 26)) (0.2.3)\n",
      "Requirement already satisfied: py4j==0.10.9.7 in c:\\users\\renato.valentim\\appdata\\local\\programs\\python\\python39\\lib\\site-packages (from -r requirements.txt (line 27)) (0.10.9.7)\n",
      "Requirement already satisfied: Pygments==2.19.1 in c:\\users\\renato.valentim\\appdata\\roaming\\python\\python39\\site-packages (from -r requirements.txt (line 28)) (2.19.1)\n",
      "Requirement already satisfied: pyspark==3.5.4 in c:\\users\\renato.valentim\\appdata\\local\\programs\\python\\python39\\lib\\site-packages (from -r requirements.txt (line 29)) (3.5.4)\n",
      "Requirement already satisfied: python-dateutil==2.9.0.post0 in c:\\users\\renato.valentim\\appdata\\roaming\\python\\python39\\site-packages (from -r requirements.txt (line 30)) (2.9.0.post0)\n",
      "Requirement already satisfied: pytz==2025.1 in c:\\users\\renato.valentim\\appdata\\local\\programs\\python\\python39\\lib\\site-packages (from -r requirements.txt (line 31)) (2025.1)\n",
      "Requirement already satisfied: pywin32==308 in c:\\users\\renato.valentim\\appdata\\roaming\\python\\python39\\site-packages (from -r requirements.txt (line 32)) (308)\n",
      "Requirement already satisfied: pyzmq==26.2.1 in c:\\users\\renato.valentim\\appdata\\roaming\\python\\python39\\site-packages (from -r requirements.txt (line 33)) (26.2.1)\n",
      "Requirement already satisfied: six==1.17.0 in c:\\users\\renato.valentim\\appdata\\roaming\\python\\python39\\site-packages (from -r requirements.txt (line 34)) (1.17.0)\n",
      "Requirement already satisfied: stack-data==0.6.3 in c:\\users\\renato.valentim\\appdata\\roaming\\python\\python39\\site-packages (from -r requirements.txt (line 35)) (0.6.3)\n",
      "Requirement already satisfied: tornado==6.4.2 in c:\\users\\renato.valentim\\appdata\\roaming\\python\\python39\\site-packages (from -r requirements.txt (line 36)) (6.4.2)\n",
      "Requirement already satisfied: tqdm==4.67.1 in c:\\users\\renato.valentim\\appdata\\local\\programs\\python\\python39\\lib\\site-packages (from -r requirements.txt (line 37)) (4.67.1)\n",
      "Requirement already satisfied: traitlets==5.14.3 in c:\\users\\renato.valentim\\appdata\\roaming\\python\\python39\\site-packages (from -r requirements.txt (line 38)) (5.14.3)\n",
      "Requirement already satisfied: typing_extensions==4.12.2 in c:\\users\\renato.valentim\\appdata\\roaming\\python\\python39\\site-packages (from -r requirements.txt (line 39)) (4.12.2)\n",
      "Requirement already satisfied: tzdata==2025.1 in c:\\users\\renato.valentim\\appdata\\local\\programs\\python\\python39\\lib\\site-packages (from -r requirements.txt (line 40)) (2025.1)\n",
      "Requirement already satisfied: Unidecode==1.3.8 in c:\\users\\renato.valentim\\appdata\\local\\programs\\python\\python39\\lib\\site-packages (from -r requirements.txt (line 41)) (1.3.8)\n",
      "Requirement already satisfied: urllib3==2.3.0 in c:\\users\\renato.valentim\\appdata\\local\\programs\\python\\python39\\lib\\site-packages (from -r requirements.txt (line 42)) (2.3.0)\n",
      "Requirement already satisfied: wcwidth==0.2.13 in c:\\users\\renato.valentim\\appdata\\roaming\\python\\python39\\site-packages (from -r requirements.txt (line 43)) (0.2.13)\n",
      "Requirement already satisfied: zipp==3.21.0 in c:\\users\\renato.valentim\\appdata\\roaming\\python\\python39\\site-packages (from -r requirements.txt (line 44)) (3.21.0)\n",
      "Note: you may need to restart the kernel to use updated packages.\n"
     ]
    },
    {
     "name": "stderr",
     "output_type": "stream",
     "text": [
      "WARNING: You are using pip version 22.0.4; however, version 25.0.1 is available.\n",
      "You should consider upgrading via the 'c:\\Users\\renato.valentim\\AppData\\Local\\Programs\\Python\\Python39\\python.exe -m pip install --upgrade pip' command.\n"
     ]
    }
   ],
   "source": [
    "%pip install -r requirements.txt"
   ]
  },
  {
   "cell_type": "markdown",
   "metadata": {},
   "source": [
    "### Imports and Paths"
   ]
  },
  {
   "cell_type": "code",
   "execution_count": 22,
   "metadata": {},
   "outputs": [],
   "source": [
    "from utils import *"
   ]
  },
  {
   "cell_type": "code",
   "execution_count": 23,
   "metadata": {},
   "outputs": [],
   "source": [
    "# CATALOG_PATH = f\"{MAIN_PATH}/mobly_top_100.csv\"\n",
    "CATALOG_PATH = f\"{MAIN_PATH}/ofertas_base_ouro_07032025.csv\""
   ]
  },
  {
   "cell_type": "markdown",
   "metadata": {},
   "source": [
    "### Loading Query Data"
   ]
  },
  {
   "cell_type": "code",
   "execution_count": 24,
   "metadata": {},
   "outputs": [
    {
     "name": "stdout",
     "output_type": "stream",
     "text": [
      "+-------------+----------------------------------------------------------------------------------------+\n",
      "|sku          |desc_product                                                                            |\n",
      "+-------------+----------------------------------------------------------------------------------------+\n",
      "|7909903272879|ESTANTE HOME RIPADA PARA TV ATE 85 POLEGADAS COM LED 3 GAVETAS NOBRE CLEAN GELIUS MOVEIS|\n",
      "|7908308742543|GUARDA ROUPA 2 PORTAS 3 GAVETAS AVILA NOVO HORIZONTE                                    |\n",
      "|7909903075975|GUARDA ROUPA 4 PORTAS 2 GAVETAS LOGAN MAMBEL                                            |\n",
      "|7908308742420|GUARDA ROUPA 6 PORTAS 6 GAVETAS COM ESPELHO RENO NOVO HORIZONTE                         |\n",
      "|7908308742451|GUARDA ROUPA 6 PORTAS 6 GAVETAS COM ESPELHO RENO NOVO HORIZONTE                         |\n",
      "|7908308742277|GUARDA ROUPA 6 PORTAS 6 GAVETAS RENO NOVO HORIZONTE                                     |\n",
      "|7908167227984|GUARDA ROUPA CASAL 3 PORTAS 1 ESPELHO 100 MDF LONDON YESCASA                            |\n",
      "|7908308792012|GUARDA ROUPA CASAL 3 PORTAS 4 GAVETAS PLATA DEMOBILE                                    |\n",
      "|7909903266175|GUARDA ROUPA CASAL 3 PORTAS 9 GAVETAS COM ESPELHO LUANA SALLETO MOVEIS                  |\n",
      "|7909903266151|GUARDA ROUPA CASAL 3 PORTAS 9 GAVETAS LUANA SALLETO MOVEIS                              |\n",
      "|7909903250082|GUARDA ROUPA CASAL 3 PORTAS COM ESPELHO 4 GAVETAS COSTA RICA SALLETO MOVEIS             |\n",
      "|7909903263884|GUARDA ROUPA CASAL 8 PORTAS 4 GAVETAS COM PES PARIS ESPRESSO MOVEIS                     |\n",
      "|7909903264690|GUARDA ROUPA CASAL 8 PORTAS 4 GAVETAS COM PES PARIS ESPRESSO MOVEIS                     |\n",
      "|7909903263846|GUARDA ROUPA CASAL 8 PORTAS 4 GAVETAS PARIS ESPRESSO MOVEIS                             |\n",
      "|7909903263853|GUARDA ROUPA CASAL 8 PORTAS 4 GAVETAS PARIS ESPRESSO MOVEIS                             |\n",
      "|7909903264669|GUARDA ROUPA CASAL 8 PORTAS 4 GAVETAS PARIS ESPRESSO MOVEIS                             |\n",
      "|7909903264683|GUARDA ROUPA CASAL 8 PORTAS 4 GAVETAS PARIS ESPRESSO MOVEIS                             |\n",
      "|7908308743007|GUARDA ROUPA CASAL COM ESPELHO 3 PORTAS 6 GAVETAS MONTREAL NOVO HORIZONTE               |\n",
      "|7908308742147|GUARDA ROUPA CASAL COM ESPELHO 3 PORTAS 6 GAVETAS VEGAS                                 |\n",
      "|7908506254497|GUARDA ROUPA CASAL 3 PORTAS COM ESPELHO CENTRAL E 4 GAVETAS COSTA RICA SALLETO MOVEIS   |\n",
      "+-------------+----------------------------------------------------------------------------------------+\n",
      "only showing top 20 rows\n",
      "\n"
     ]
    }
   ],
   "source": [
    "df = (\n",
    "  spark.read\n",
    "  .option(\"header\", True)\n",
    "  .option(\"inferSchema\", True)\n",
    "  .option(\"multiline\", True)\n",
    "  .option(\"quote\", '\"')\n",
    "  .option(\"escape\", \"\\\\\")\n",
    "  .option(\"sep\", \";\")\n",
    "  .option(\"ignoreLeadingWhiteSpace\", True)\n",
    "  .option(\"ignoreTrailingWhiteSpace\", True)\n",
    "  .csv(CATALOG_PATH)\n",
    "\n",
    "  # Adaptar o campo \"Nome\" para o nome apropriado dependendo do arquivo de entrada\n",
    "  .withColumnRenamed(\"Nome\", \"desc_product\")\n",
    "  .withColumnRenamed(\"EAN\", \"sku\")\n",
    "  .withColumn(\"sku\", f.col(\"sku\").cast(StringType()))\n",
    ")\n",
    "\n",
    "df = remove_accents_df(df=df, columns=[\"desc_product\"])\n",
    "df = clean_text_column(df, \"desc_product\").withColumn('desc_product', f.upper('desc_product'))\n",
    "\n",
    "df.show(truncate=False)"
   ]
  },
  {
   "cell_type": "markdown",
   "metadata": {},
   "source": [
    "### Performing Elastic Search"
   ]
  },
  {
   "cell_type": "code",
   "execution_count": 25,
   "metadata": {},
   "outputs": [],
   "source": [
    "df_rows = df.collect()"
   ]
  },
  {
   "cell_type": "code",
   "execution_count": 26,
   "metadata": {},
   "outputs": [
    {
     "name": "stderr",
     "output_type": "stream",
     "text": [
      "Searching: 100%|██████████| 129/129 [00:08<00:00, 14.91it/s]\n"
     ]
    }
   ],
   "source": [
    "NUM_RESULTS_PER_QUERY = 100\n",
    "final_results = perform_elastic_search(df_rows, num_results_per_query=NUM_RESULTS_PER_QUERY)"
   ]
  },
  {
   "cell_type": "markdown",
   "metadata": {},
   "source": [
    "### Saving Results in .CSV"
   ]
  },
  {
   "cell_type": "code",
   "execution_count": 27,
   "metadata": {},
   "outputs": [],
   "source": [
    "timestamp = datetime.now().strftime(\"%Y%m%d_%H%M\")\n",
    "output_path = f\"outputs/{NUM_RESULTS_PER_QUERY}_most_similar_descriptions_{timestamp}_.csv\""
   ]
  },
  {
   "cell_type": "code",
   "execution_count": 28,
   "metadata": {},
   "outputs": [],
   "source": [
    "save_csv(\n",
    "    final_results, \n",
    "    output_path, [\"sku\", \n",
    "                  \"catalog_desc\", \n",
    "                  \"id_product\", \n",
    "                  \"similar_desc\", \n",
    "                  \"elastic_score\", \n",
    "                  \"normalized_score\"\n",
    "                  ]\n",
    ")"
   ]
  },
  {
   "cell_type": "markdown",
   "metadata": {},
   "source": [
    "### Loading Final Results"
   ]
  },
  {
   "cell_type": "code",
   "execution_count": 29,
   "metadata": {},
   "outputs": [],
   "source": [
    "df_result = (\n",
    "    spark.read\n",
    "    .option(\"header\", True)\n",
    "    .option(\"inferSchema\", True)\n",
    "    .option(\"multiline\", True)\n",
    "    .option(\"quote\", '\"')\n",
    "    .option(\"escape\", \"\\\\\")\n",
    "    .option(\"sep\", \";\")\n",
    "    .option(\"ignoreLeadingWhiteSpace\", True)\n",
    "    .option(\"ignoreTrailingWhiteSpace\", True)\n",
    "    .csv(output_path)\n",
    ")"
   ]
  },
  {
   "cell_type": "code",
   "execution_count": 30,
   "metadata": {},
   "outputs": [
    {
     "name": "stdout",
     "output_type": "stream",
     "text": [
      "+-------------+----------------------------------------------------------------------------------------+----------+-----------------------------------------------------------------------------------------------------------------------------------------------------------+-------------+-----------------+\n",
      "|sku          |catalog_desc                                                                            |id_product|similar_desc                                                                                                                                               |elastic_score|normalized_score |\n",
      "+-------------+----------------------------------------------------------------------------------------+----------+-----------------------------------------------------------------------------------------------------------------------------------------------------------+-------------+-----------------+\n",
      "|7909903272879|ESTANTE HOME RIPADA PARA TV ATE 85 POLEGADAS COM LED 3 GAVETAS NOBRE CLEAN GELIUS MOVEIS|94496216  |ESTANTE HOME RIPADA PARA TV ATE 85 POLEGADAS COM LED 3 GAVETAS NOBRE CLEAN GELIUS MOVEIS                                                                   |49.80539     |100.0            |\n",
      "|7909903272879|ESTANTE HOME RIPADA PARA TV ATE 85 POLEGADAS COM LED 3 GAVETAS NOBRE CLEAN GELIUS MOVEIS|94496217  |ESTANTE HOME RIPADA PARA TV ATE 85 POLEGADAS COM LED 3 GAVETAS NOBRE CLEAN GELIUS MOVEIS NATURALE                                                          |48.224934    |96.82673702585201|\n",
      "|7909903272879|ESTANTE HOME RIPADA PARA TV ATE 85 POLEGADAS COM LED 3 GAVETAS NOBRE CLEAN GELIUS MOVEIS|114104643 |ESTANTE HOME RIPADA PARA TV ATE 85 POLEGADAS COM LED 3 GAVETAS NOBRE CLEAN GELIUS MOVEIS MARROMLE                                                          |48.224934    |96.82673702585201|\n",
      "|7909903272879|ESTANTE HOME RIPADA PARA TV ATE 85 POLEGADAS COM LED 3 GAVETAS NOBRE CLEAN GELIUS MOVEIS|95493454  |ESTANTE HOME RIPADA PARA TV ATE 85 POLEGADAS COM LED 3 GAVETAS NOBRE CLEAN GELIUS MOVEIS NATURALEOFF WHITE                                                 |46.7417      |93.84867782382588|\n",
      "|7909903272879|ESTANTE HOME RIPADA PARA TV ATE 85 POLEGADAS COM LED 3 GAVETAS NOBRE CLEAN GELIUS MOVEIS|113036259 |ESTANTE HOME RIPADA PARA TV ATE 85 POLEGADAS COM LED 3 GAVETAS NOBRE CLEAN                                                                                 |46.313396    |92.9887227065183 |\n",
      "|7909903272879|ESTANTE HOME RIPADA PARA TV ATE 85 POLEGADAS COM LED 3 GAVETAS NOBRE CLEAN GELIUS MOVEIS|85385046  |ESTANTE HOME RIPADA PARA TV ATE 85 POLEGADAS COM LED NOBRE 230CM GELIUS MOVEIS                                                                             |44.48443     |89.31649767223989|\n",
      "|7909903272879|ESTANTE HOME RIPADA PARA TV ATE 85 POLEGADAS COM LED 3 GAVETAS NOBRE CLEAN GELIUS MOVEIS|127276627 |ESTANTE HOME RIPADA PARA TV ATE 85 POLEGADAS 3 GAVETAS NOBRE CLEAN                                                                                         |44.417675    |89.1824659941424 |\n",
      "|7909903272879|ESTANTE HOME RIPADA PARA TV ATE 85 POLEGADAS COM LED 3 GAVETAS NOBRE CLEAN GELIUS MOVEIS|128440690 |ESTANTE HOME RIPADA PARA TV ATE 85 POLEGADAS COM LED 3 GAVETAS NOBRE CLEAN NATURALEOFF WHITE                                                               |43.27778     |86.89376792351189|\n",
      "|7909903272879|ESTANTE HOME RIPADA PARA TV ATE 85 POLEGADAS COM LED 3 GAVETAS NOBRE CLEAN GELIUS MOVEIS|85788051  |ESTANTE HOME RIPADA PARA TV ATE 85 POLEGADAS COM LED NOBRE 230CM GELIUS MOVEIS NATURALEOFF WHITE                                                           |41.56869     |83.46223169821579|\n",
      "|7909903272879|ESTANTE HOME RIPADA PARA TV ATE 85 POLEGADAS COM LED 3 GAVETAS NOBRE CLEAN GELIUS MOVEIS|126928566 |ESTANTE HOME RIPADA PARA TV ATE 85 POLEGADAS 3 GAVETAS NOBRE CLEAN NATURALEOFF WHITE                                                                       |41.302097    |82.92696232275262|\n",
      "|7909903272879|ESTANTE HOME RIPADA PARA TV ATE 85 POLEGADAS COM LED 3 GAVETAS NOBRE CLEAN GELIUS MOVEIS|108661635 |ESTANTE HOME RIPADA PARA TV ATE 84 POLEGADAS COM LED 3 GAVETAS NOBRE CLEAN                                                                                 |40.7362      |81.79074594135292|\n",
      "|7909903272879|ESTANTE HOME RIPADA PARA TV ATE 85 POLEGADAS COM LED 3 GAVETAS NOBRE CLEAN GELIUS MOVEIS|95947912  |RACK COM PAINEL PARA TV ATE 85 POLEGADAS LED 3 GAVETAS NOBRE CLEAN GELIUS MOVEIS                                                                           |39.820293    |79.95177429591456|\n",
      "|7909903272879|ESTANTE HOME RIPADA PARA TV ATE 85 POLEGADAS COM LED 3 GAVETAS NOBRE CLEAN GELIUS MOVEIS|97975025  |ESTANTE HOME RIPADA PARA TV ATE 84 POLEGADAS COM LED NOBRE 230CM GELIUS MOVEIS                                                                             |38.90723     |78.11851287581524|\n",
      "|7909903272879|ESTANTE HOME RIPADA PARA TV ATE 85 POLEGADAS COM LED 3 GAVETAS NOBRE CLEAN GELIUS MOVEIS|108379170 |ESTANTE HOME RIPADA PARA TV ATE 84 POLEGADAS COM LED 3 GAVETAS NOBRE CLEAN OFF WHITE                                                                       |38.06614     |76.42975991152764|\n",
      "|7909903272879|ESTANTE HOME RIPADA PARA TV ATE 85 POLEGADAS COM LED 3 GAVETAS NOBRE CLEAN GELIUS MOVEIS|94811234  |RACK COM PAINEL PARA TV ATE 85 POLEGADAS LED 3 GAVETAS COM PES NOBRE CLEAN GELIUS MOVEIS                                                                   |37.762882    |75.82087400580538|\n",
      "|7909903272879|ESTANTE HOME RIPADA PARA TV ATE 85 POLEGADAS COM LED 3 GAVETAS NOBRE CLEAN GELIUS MOVEIS|109839717 |ESTANTE HOME PARA TV ATE 85 POLEGADAS 3 GAVETAS LED ROYAL GELIUS                                                                                           |37.575294    |75.44423203994587|\n",
      "|7909903272879|ESTANTE HOME RIPADA PARA TV ATE 85 POLEGADAS COM LED 3 GAVETAS NOBRE CLEAN GELIUS MOVEIS|114893254 |RACK COM PAINEL PARA TV ATE 85 POLEGADAS LED 3 GAVETAS NOBRE CLEAN GELIUS MOVEIS NATURALEOFF WHITE                                                         |37.293087    |74.87761264393271|\n",
      "|7909903272879|ESTANTE HOME RIPADA PARA TV ATE 85 POLEGADAS COM LED 3 GAVETAS NOBRE CLEAN GELIUS MOVEIS|97992749  |RACK COM PAINEL PARA TV ATE 85 POLEGADAS LED 3 GAVETAS NOBRE CLEAN GELIUS MOVEIS MARROMLEOFF WHITE                                                         |37.293087    |74.87761264393271|\n",
      "|7909903272879|ESTANTE HOME RIPADA PARA TV ATE 85 POLEGADAS COM LED 3 GAVETAS NOBRE CLEAN GELIUS MOVEIS|131691816 |ESTANTE HOME PARA TV ATE 85 POLEGADAS COM LED 3 GAVETAS ROYAL GELIUS ESTANTE HOME PARA TV ATE 85 POLEGADAS 3 GAVETAS LED ROYAL GELIUS OFF WHITEOFF WHITE SV|37.15441     |74.59917490857917|\n",
      "|7909903272879|ESTANTE HOME RIPADA PARA TV ATE 85 POLEGADAS COM LED 3 GAVETAS NOBRE CLEAN GELIUS MOVEIS|106798706 |PAINEL PARA TV ATE 85 POLEGADAS 3 GAVETAS LED NOBRE GELIUS                                                                                                 |36.952126    |74.19302609617151|\n",
      "+-------------+----------------------------------------------------------------------------------------+----------+-----------------------------------------------------------------------------------------------------------------------------------------------------------+-------------+-----------------+\n",
      "only showing top 20 rows\n",
      "\n"
     ]
    }
   ],
   "source": [
    "df_result.show(truncate=False)"
   ]
  }
 ],
 "metadata": {
  "kernelspec": {
   "display_name": "Python 3",
   "language": "python",
   "name": "python3"
  },
  "language_info": {
   "codemirror_mode": {
    "name": "ipython",
    "version": 3
   },
   "file_extension": ".py",
   "mimetype": "text/x-python",
   "name": "python",
   "nbconvert_exporter": "python",
   "pygments_lexer": "ipython3",
   "version": "3.9.13"
  }
 },
 "nbformat": 4,
 "nbformat_minor": 2
}
