{
 "cells": [
  {
   "cell_type": "code",
   "execution_count": 21,
   "metadata": {},
   "outputs": [
    {
     "name": "stdout",
     "output_type": "stream",
     "text": [
      "Requirement already satisfied: asttokens==3.0.0 in c:\\users\\renato.valentim\\appdata\\roaming\\python\\python39\\site-packages (from -r requirements.txt (line 1)) (3.0.0)\n",
      "Requirement already satisfied: certifi==2025.1.31 in c:\\users\\renato.valentim\\appdata\\local\\programs\\python\\python39\\lib\\site-packages (from -r requirements.txt (line 2)) (2025.1.31)\n",
      "Requirement already satisfied: colorama==0.4.6 in c:\\users\\renato.valentim\\appdata\\roaming\\python\\python39\\site-packages (from -r requirements.txt (line 3)) (0.4.6)\n",
      "Requirement already satisfied: comm==0.2.2 in c:\\users\\renato.valentim\\appdata\\roaming\\python\\python39\\site-packages (from -r requirements.txt (line 4)) (0.2.2)\n",
      "Requirement already satisfied: debugpy==1.8.12 in c:\\users\\renato.valentim\\appdata\\roaming\\python\\python39\\site-packages (from -r requirements.txt (line 5)) (1.8.12)\n",
      "Requirement already satisfied: decorator==5.1.1 in c:\\users\\renato.valentim\\appdata\\roaming\\python\\python39\\site-packages (from -r requirements.txt (line 6)) (5.1.1)\n",
      "Requirement already satisfied: elastic-transport==8.17.0 in c:\\users\\renato.valentim\\appdata\\local\\programs\\python\\python39\\lib\\site-packages (from -r requirements.txt (line 7)) (8.17.0)\n",
      "Requirement already satisfied: elasticsearch==8.17.1 in c:\\users\\renato.valentim\\appdata\\local\\programs\\python\\python39\\lib\\site-packages (from -r requirements.txt (line 8)) (8.17.1)\n",
      "Requirement already satisfied: exceptiongroup==1.2.2 in c:\\users\\renato.valentim\\appdata\\roaming\\python\\python39\\site-packages (from -r requirements.txt (line 9)) (1.2.2)\n",
      "Requirement already satisfied: executing==2.2.0 in c:\\users\\renato.valentim\\appdata\\roaming\\python\\python39\\site-packages (from -r requirements.txt (line 10)) (2.2.0)\n",
      "Requirement already satisfied: importlib_metadata==8.6.1 in c:\\users\\renato.valentim\\appdata\\roaming\\python\\python39\\site-packages (from -r requirements.txt (line 11)) (8.6.1)\n",
      "Requirement already satisfied: ipykernel==6.29.5 in c:\\users\\renato.valentim\\appdata\\roaming\\python\\python39\\site-packages (from -r requirements.txt (line 12)) (6.29.5)\n",
      "Requirement already satisfied: ipython==8.18.1 in c:\\users\\renato.valentim\\appdata\\roaming\\python\\python39\\site-packages (from -r requirements.txt (line 13)) (8.18.1)\n",
      "Requirement already satisfied: jedi==0.19.2 in c:\\users\\renato.valentim\\appdata\\roaming\\python\\python39\\site-packages (from -r requirements.txt (line 14)) (0.19.2)\n",
      "Requirement already satisfied: jupyter_client==8.6.3 in c:\\users\\renato.valentim\\appdata\\roaming\\python\\python39\\site-packages (from -r requirements.txt (line 15)) (8.6.3)\n",
      "Requirement already satisfied: jupyter_core==5.7.2 in c:\\users\\renato.valentim\\appdata\\roaming\\python\\python39\\site-packages (from -r requirements.txt (line 16)) (5.7.2)\n",
      "Requirement already satisfied: matplotlib-inline==0.1.7 in c:\\users\\renato.valentim\\appdata\\roaming\\python\\python39\\site-packages (from -r requirements.txt (line 17)) (0.1.7)\n",
      "Requirement already satisfied: nest-asyncio==1.6.0 in c:\\users\\renato.valentim\\appdata\\roaming\\python\\python39\\site-packages (from -r requirements.txt (line 18)) (1.6.0)\n",
      "Requirement already satisfied: numpy==2.0.2 in c:\\users\\renato.valentim\\appdata\\local\\programs\\python\\python39\\lib\\site-packages (from -r requirements.txt (line 19)) (2.0.2)\n",
      "Requirement already satisfied: packaging==24.2 in c:\\users\\renato.valentim\\appdata\\roaming\\python\\python39\\site-packages (from -r requirements.txt (line 20)) (24.2)\n",
      "Requirement already satisfied: pandas==2.2.3 in c:\\users\\renato.valentim\\appdata\\local\\programs\\python\\python39\\lib\\site-packages (from -r requirements.txt (line 21)) (2.2.3)\n",
      "Requirement already satisfied: parso==0.8.4 in c:\\users\\renato.valentim\\appdata\\roaming\\python\\python39\\site-packages (from -r requirements.txt (line 22)) (0.8.4)\n",
      "Requirement already satisfied: platformdirs==4.3.6 in c:\\users\\renato.valentim\\appdata\\roaming\\python\\python39\\site-packages (from -r requirements.txt (line 23)) (4.3.6)\n",
      "Requirement already satisfied: prompt_toolkit==3.0.50 in c:\\users\\renato.valentim\\appdata\\roaming\\python\\python39\\site-packages (from -r requirements.txt (line 24)) (3.0.50)\n",
      "Requirement already satisfied: psutil==7.0.0 in c:\\users\\renato.valentim\\appdata\\roaming\\python\\python39\\site-packages (from -r requirements.txt (line 25)) (7.0.0)\n",
      "Requirement already satisfied: pure_eval==0.2.3 in c:\\users\\renato.valentim\\appdata\\roaming\\python\\python39\\site-packages (from -r requirements.txt (line 26)) (0.2.3)\n",
      "Requirement already satisfied: py4j==0.10.9.7 in c:\\users\\renato.valentim\\appdata\\local\\programs\\python\\python39\\lib\\site-packages (from -r requirements.txt (line 27)) (0.10.9.7)\n",
      "Requirement already satisfied: Pygments==2.19.1 in c:\\users\\renato.valentim\\appdata\\roaming\\python\\python39\\site-packages (from -r requirements.txt (line 28)) (2.19.1)\n",
      "Requirement already satisfied: pyspark==3.5.4 in c:\\users\\renato.valentim\\appdata\\local\\programs\\python\\python39\\lib\\site-packages (from -r requirements.txt (line 29)) (3.5.4)\n",
      "Requirement already satisfied: python-dateutil==2.9.0.post0 in c:\\users\\renato.valentim\\appdata\\roaming\\python\\python39\\site-packages (from -r requirements.txt (line 30)) (2.9.0.post0)\n",
      "Requirement already satisfied: pytz==2025.1 in c:\\users\\renato.valentim\\appdata\\local\\programs\\python\\python39\\lib\\site-packages (from -r requirements.txt (line 31)) (2025.1)\n",
      "Requirement already satisfied: pywin32==308 in c:\\users\\renato.valentim\\appdata\\roaming\\python\\python39\\site-packages (from -r requirements.txt (line 32)) (308)\n",
      "Requirement already satisfied: pyzmq==26.2.1 in c:\\users\\renato.valentim\\appdata\\roaming\\python\\python39\\site-packages (from -r requirements.txt (line 33)) (26.2.1)\n",
      "Requirement already satisfied: six==1.17.0 in c:\\users\\renato.valentim\\appdata\\roaming\\python\\python39\\site-packages (from -r requirements.txt (line 34)) (1.17.0)\n",
      "Requirement already satisfied: stack-data==0.6.3 in c:\\users\\renato.valentim\\appdata\\roaming\\python\\python39\\site-packages (from -r requirements.txt (line 35)) (0.6.3)\n",
      "Requirement already satisfied: tornado==6.4.2 in c:\\users\\renato.valentim\\appdata\\roaming\\python\\python39\\site-packages (from -r requirements.txt (line 36)) (6.4.2)\n",
      "Requirement already satisfied: tqdm==4.67.1 in c:\\users\\renato.valentim\\appdata\\local\\programs\\python\\python39\\lib\\site-packages (from -r requirements.txt (line 37)) (4.67.1)\n",
      "Requirement already satisfied: traitlets==5.14.3 in c:\\users\\renato.valentim\\appdata\\roaming\\python\\python39\\site-packages (from -r requirements.txt (line 38)) (5.14.3)\n",
      "Requirement already satisfied: typing_extensions==4.12.2 in c:\\users\\renato.valentim\\appdata\\roaming\\python\\python39\\site-packages (from -r requirements.txt (line 39)) (4.12.2)\n",
      "Requirement already satisfied: tzdata==2025.1 in c:\\users\\renato.valentim\\appdata\\local\\programs\\python\\python39\\lib\\site-packages (from -r requirements.txt (line 40)) (2025.1)\n",
      "Requirement already satisfied: Unidecode==1.3.8 in c:\\users\\renato.valentim\\appdata\\local\\programs\\python\\python39\\lib\\site-packages (from -r requirements.txt (line 41)) (1.3.8)\n",
      "Requirement already satisfied: urllib3==2.3.0 in c:\\users\\renato.valentim\\appdata\\local\\programs\\python\\python39\\lib\\site-packages (from -r requirements.txt (line 42)) (2.3.0)\n",
      "Requirement already satisfied: wcwidth==0.2.13 in c:\\users\\renato.valentim\\appdata\\roaming\\python\\python39\\site-packages (from -r requirements.txt (line 43)) (0.2.13)\n",
      "Requirement already satisfied: zipp==3.21.0 in c:\\users\\renato.valentim\\appdata\\roaming\\python\\python39\\site-packages (from -r requirements.txt (line 44)) (3.21.0)\n",
      "Note: you may need to restart the kernel to use updated packages.\n"
     ]
    },
    {
     "name": "stderr",
     "output_type": "stream",
     "text": [
      "WARNING: You are using pip version 22.0.4; however, version 25.0.1 is available.\n",
      "You should consider upgrading via the 'c:\\Users\\renato.valentim\\AppData\\Local\\Programs\\Python\\Python39\\python.exe -m pip install --upgrade pip' command.\n"
     ]
    }
   ],
   "source": [
    "%pip install -r requirements.txt"
   ]
  },
  {
   "cell_type": "markdown",
   "metadata": {},
   "source": [
    "### Imports & Paths"
   ]
  },
  {
   "cell_type": "code",
   "execution_count": 22,
   "metadata": {},
   "outputs": [],
   "source": [
    "from utils import *"
   ]
  },
  {
   "cell_type": "code",
   "execution_count": 23,
   "metadata": {},
   "outputs": [],
   "source": [
    "\n",
    "CORPUS_PATH = f\"{MAIN_PATH}/ofertas_matching_enriquecidas.csv\""
   ]
  },
  {
   "cell_type": "markdown",
   "metadata": {},
   "source": [
    "### Corpus Data & Transformations"
   ]
  },
  {
   "cell_type": "code",
   "execution_count": 24,
   "metadata": {},
   "outputs": [],
   "source": [
    "df_corpus = (\n",
    "  spark.read\n",
    "  .option(\"header\", True)\n",
    "  .option(\"inferSchema\", True)\n",
    "  .option(\"multiline\", True)\n",
    "  .option(\"quote\", '\"')\n",
    "  .option(\"escape\", \"\\\\\")\n",
    "  .option(\"sep\", \";\")\n",
    "  .option(\"ignoreLeadingWhiteSpace\", True)\n",
    "  .option(\"ignoreTrailingWhiteSpace\", True)\n",
    "  .csv(CORPUS_PATH)\n",
    "\n",
    "# Transformações importantes das columns\n",
    "  .withColumnRenamed('CATEGORIA', 'categoria')\n",
    "  .withColumnRenamed('Marca', 'marca')\n",
    "  .withColumnRenamed('Cor', 'cor')\n",
    "  .withColumnRenamed('PRECO MEDIO', 'preco_medio')\n",
    "  .withColumn(\"preco_medio\", f.regexp_replace(f.col(\"preco_medio\"), \"R\\\\$ \", \"\"))\n",
    "  .withColumn(\"preco_medio\", f.regexp_replace(f.col(\"preco_medio\"), \"\\\\.\", \"\"))\n",
    "  .withColumn(\"preco_medio\", f.regexp_replace(f.col(\"preco_medio\"), \",\", \".\"))\n",
    "  .withColumn('preco_medio', f.col('preco_medio').cast('double'))\n",
    "  .withColumnRenamed('DESC_PRODUCT', 'desc_product')\n",
    "  .withColumnRenamed('ID_PRODUCT', 'id_product')\n",
    "  .withColumnRenamed('atributo 3', 'atributo_1')\n",
    "  .withColumnRenamed('atributo 4', 'atributo_2')\n",
    "  .withColumnRenamed('atributo 5', 'atributo_3')\n",
    "  .withColumnRenamed('atributo 6', 'atributo_4')\n",
    "  .withColumnRenamed('atributo 7', 'atributo_5')\n",
    "  .withColumnRenamed('atributo 8', 'atributo_6')\n",
    ")"
   ]
  },
  {
   "cell_type": "code",
   "execution_count": 25,
   "metadata": {},
   "outputs": [],
   "source": [
    "df = remove_accents_df(\n",
    "    df=df_corpus, \n",
    "    columns=[\n",
    "        \"desc_product\", \"categoria\", \"marca\", \"cor\", \n",
    "        \"atributo_1\", \"atributo_2\", \"atributo_3\", \n",
    "        \"atributo_4\", \"atributo_5\", \"atributo_6\"]\n",
    "    )\n",
    "df = convert_string_columns_to_upper(df)"
   ]
  },
  {
   "cell_type": "code",
   "execution_count": null,
   "metadata": {},
   "outputs": [],
   "source": [
    "terms = [\"OUTLET\", \"ANUNCIO\", \"OLD\"]\n",
    "df = remove_terms_from_column(df, terms, column_name=\"desc_product\")"
   ]
  },
  {
   "cell_type": "code",
   "execution_count": 26,
   "metadata": {},
   "outputs": [],
   "source": [
    "columns = [\"categoria\", \"marca\", \"cor\"]\n",
    "\n",
    "# Iterar por todas as colunas no DataFrame\n",
    "for column in columns:\n",
    "        # Converter a string column para uppercase\n",
    "        df = clean_text_column(df, column)"
   ]
  },
  {
   "cell_type": "code",
   "execution_count": null,
   "metadata": {},
   "outputs": [],
   "source": [
    "print(\"Número de Ofertas:\", f\"{df.count():,}\")"
   ]
  },
  {
   "cell_type": "code",
   "execution_count": 30,
   "metadata": {},
   "outputs": [],
   "source": [
    "def generate_actions_attributes(rows):\n",
    "    \"\"\"\n",
    "    Converter cada linha em um documento Elasticsearch\n",
    "    \"\"\"    \n",
    "    for row in rows:\n",
    "        yield {\n",
    "            \"_index\": \"ofertas_corpus_attributes\",\n",
    "            \"_id\": str(row['id_product']),  # Usar id_product como _id\n",
    "            \"_source\": {\n",
    "                \"desc_product\": row['desc_product'],\n",
    "                \"categoria\": row['categoria'],\n",
    "                \"preco_medio\": str(row['preco_medio']),\n",
    "                \"cor\": row['cor'],\n",
    "                \"atributo_1\": row['atributo_1'],\n",
    "                \"atributo_2\": row['atributo_2'],\n",
    "                \"atributo_3\": row['atributo_3'],\n",
    "                \"atributo_4\": row['atributo_4'],\n",
    "                \"atributo_5\": row['atributo_5'],\n",
    "                \"atributo_6\": row['atributo_6'],\n",
    "            }\n",
    "        }"
   ]
  },
  {
   "cell_type": "markdown",
   "metadata": {},
   "source": [
    "### Elastic Search"
   ]
  },
  {
   "cell_type": "code",
   "execution_count": 32,
   "metadata": {},
   "outputs": [],
   "source": [
    "# Coletar as linhas do DataFrame e preparar para envio em lote\n",
    "rows = df.collect()\n",
    "actions = list(generate_actions_attributes(rows))"
   ]
  },
  {
   "cell_type": "code",
   "execution_count": 33,
   "metadata": {},
   "outputs": [
    {
     "name": "stdout",
     "output_type": "stream",
     "text": [
      "Aqui estão alguns exemplos das actions criadas para index no ES\n"
     ]
    },
    {
     "data": {
      "text/plain": [
       "(None,\n",
       " [{'_index': 'ofertas_corpus_attributes',\n",
       "   '_id': '61567317',\n",
       "   '_source': {'desc_product': 'BALCAO DE COZINHA 3 PORTAS 1 GAVETA DAMA DEMOBILE AMENDOLA BRANCO',\n",
       "    'categoria': 'ARMARIOS BALCOES GUARDA ROUPAS ESTANTES RACKS E PAINEIS DE TV',\n",
       "    'preco_medio': '248.32',\n",
       "    'cor': 'BRANCO',\n",
       "    'atributo_1': 'NAO INFORMADO',\n",
       "    'atributo_2': '3',\n",
       "    'atributo_3': 'NAO INFORMADO',\n",
       "    'atributo_4': 'NAO INFORMADO',\n",
       "    'atributo_5': 'NAO INFORMADO',\n",
       "    'atributo_6': 'NAO INFORMADO'}},\n",
       "  {'_index': 'ofertas_corpus_attributes',\n",
       "   '_id': '125712474',\n",
       "   '_source': {'desc_product': 'GUARDA ROUPA SOLTEIRO RAVI 2 PORTAS 2 GAVETAS 100 MDF OLMO ITALIANO MAMBEL',\n",
       "    'categoria': 'ARMARIOS BALCOES GUARDA ROUPAS ESTANTES RACKS E PAINEIS DE TV',\n",
       "    'preco_medio': '1697.74',\n",
       "    'cor': 'OLMO ITALIANO MAMBEL',\n",
       "    'atributo_1': 'NAO INFORMADO',\n",
       "    'atributo_2': '2',\n",
       "    'atributo_3': '2',\n",
       "    'atributo_4': 'NAO INFORMADO',\n",
       "    'atributo_5': 'NAO INFORMADO',\n",
       "    'atributo_6': 'NAO INFORMADO'}}])"
      ]
     },
     "execution_count": 33,
     "metadata": {},
     "output_type": "execute_result"
    }
   ],
   "source": [
    "print(\"Aqui estão alguns exemplos das actions criadas para index no ES\"), actions[:2]"
   ]
  },
  {
   "cell_type": "code",
   "execution_count": null,
   "metadata": {},
   "outputs": [],
   "source": []
  }
 ],
 "metadata": {
  "kernelspec": {
   "display_name": "Python 3",
   "language": "python",
   "name": "python3"
  },
  "language_info": {
   "codemirror_mode": {
    "name": "ipython",
    "version": 3
   },
   "file_extension": ".py",
   "mimetype": "text/x-python",
   "name": "python",
   "nbconvert_exporter": "python",
   "pygments_lexer": "ipython3",
   "version": "3.9.13"
  }
 },
 "nbformat": 4,
 "nbformat_minor": 2
}
