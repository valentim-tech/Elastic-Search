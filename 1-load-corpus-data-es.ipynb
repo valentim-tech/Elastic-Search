{
 "cells": [
  {
   "cell_type": "markdown",
   "metadata": {},
   "source": [
    "### Installing Dependencies"
   ]
  },
  {
   "cell_type": "code",
   "execution_count": 1,
   "metadata": {},
   "outputs": [
    {
     "name": "stdout",
     "output_type": "stream",
     "text": [
      "Requirement already satisfied: asttokens==3.0.0 in c:\\users\\renato.valentim\\appdata\\roaming\\python\\python39\\site-packages (from -r requirements.txt (line 1)) (3.0.0)\n",
      "Requirement already satisfied: certifi==2025.1.31 in c:\\users\\renato.valentim\\appdata\\local\\programs\\python\\python39\\lib\\site-packages (from -r requirements.txt (line 2)) (2025.1.31)\n",
      "Requirement already satisfied: colorama==0.4.6 in c:\\users\\renato.valentim\\appdata\\roaming\\python\\python39\\site-packages (from -r requirements.txt (line 3)) (0.4.6)\n",
      "Requirement already satisfied: comm==0.2.2 in c:\\users\\renato.valentim\\appdata\\roaming\\python\\python39\\site-packages (from -r requirements.txt (line 4)) (0.2.2)\n",
      "Requirement already satisfied: debugpy==1.8.12 in c:\\users\\renato.valentim\\appdata\\roaming\\python\\python39\\site-packages (from -r requirements.txt (line 5)) (1.8.12)\n",
      "Requirement already satisfied: decorator==5.1.1 in c:\\users\\renato.valentim\\appdata\\roaming\\python\\python39\\site-packages (from -r requirements.txt (line 6)) (5.1.1)\n",
      "Requirement already satisfied: elastic-transport==8.17.0 in c:\\users\\renato.valentim\\appdata\\local\\programs\\python\\python39\\lib\\site-packages (from -r requirements.txt (line 7)) (8.17.0)\n",
      "Requirement already satisfied: elasticsearch==8.17.1 in c:\\users\\renato.valentim\\appdata\\local\\programs\\python\\python39\\lib\\site-packages (from -r requirements.txt (line 8)) (8.17.1)\n",
      "Requirement already satisfied: exceptiongroup==1.2.2 in c:\\users\\renato.valentim\\appdata\\roaming\\python\\python39\\site-packages (from -r requirements.txt (line 9)) (1.2.2)\n",
      "Requirement already satisfied: executing==2.2.0 in c:\\users\\renato.valentim\\appdata\\roaming\\python\\python39\\site-packages (from -r requirements.txt (line 10)) (2.2.0)\n",
      "Requirement already satisfied: importlib_metadata==8.6.1 in c:\\users\\renato.valentim\\appdata\\roaming\\python\\python39\\site-packages (from -r requirements.txt (line 11)) (8.6.1)\n",
      "Requirement already satisfied: ipykernel==6.29.5 in c:\\users\\renato.valentim\\appdata\\roaming\\python\\python39\\site-packages (from -r requirements.txt (line 12)) (6.29.5)\n",
      "Requirement already satisfied: ipython==8.18.1 in c:\\users\\renato.valentim\\appdata\\roaming\\python\\python39\\site-packages (from -r requirements.txt (line 13)) (8.18.1)\n",
      "Requirement already satisfied: jedi==0.19.2 in c:\\users\\renato.valentim\\appdata\\roaming\\python\\python39\\site-packages (from -r requirements.txt (line 14)) (0.19.2)\n",
      "Requirement already satisfied: jupyter_client==8.6.3 in c:\\users\\renato.valentim\\appdata\\roaming\\python\\python39\\site-packages (from -r requirements.txt (line 15)) (8.6.3)\n",
      "Requirement already satisfied: jupyter_core==5.7.2 in c:\\users\\renato.valentim\\appdata\\roaming\\python\\python39\\site-packages (from -r requirements.txt (line 16)) (5.7.2)\n",
      "Requirement already satisfied: matplotlib-inline==0.1.7 in c:\\users\\renato.valentim\\appdata\\roaming\\python\\python39\\site-packages (from -r requirements.txt (line 17)) (0.1.7)\n",
      "Requirement already satisfied: nest-asyncio==1.6.0 in c:\\users\\renato.valentim\\appdata\\roaming\\python\\python39\\site-packages (from -r requirements.txt (line 18)) (1.6.0)\n",
      "Requirement already satisfied: numpy==2.0.2 in c:\\users\\renato.valentim\\appdata\\local\\programs\\python\\python39\\lib\\site-packages (from -r requirements.txt (line 19)) (2.0.2)\n",
      "Requirement already satisfied: packaging==24.2 in c:\\users\\renato.valentim\\appdata\\roaming\\python\\python39\\site-packages (from -r requirements.txt (line 20)) (24.2)\n",
      "Requirement already satisfied: pandas==2.2.3 in c:\\users\\renato.valentim\\appdata\\local\\programs\\python\\python39\\lib\\site-packages (from -r requirements.txt (line 21)) (2.2.3)\n",
      "Requirement already satisfied: parso==0.8.4 in c:\\users\\renato.valentim\\appdata\\roaming\\python\\python39\\site-packages (from -r requirements.txt (line 22)) (0.8.4)\n",
      "Requirement already satisfied: platformdirs==4.3.6 in c:\\users\\renato.valentim\\appdata\\roaming\\python\\python39\\site-packages (from -r requirements.txt (line 23)) (4.3.6)\n",
      "Requirement already satisfied: prompt_toolkit==3.0.50 in c:\\users\\renato.valentim\\appdata\\roaming\\python\\python39\\site-packages (from -r requirements.txt (line 24)) (3.0.50)\n",
      "Requirement already satisfied: psutil==7.0.0 in c:\\users\\renato.valentim\\appdata\\roaming\\python\\python39\\site-packages (from -r requirements.txt (line 25)) (7.0.0)\n",
      "Requirement already satisfied: pure_eval==0.2.3 in c:\\users\\renato.valentim\\appdata\\roaming\\python\\python39\\site-packages (from -r requirements.txt (line 26)) (0.2.3)\n",
      "Requirement already satisfied: py4j==0.10.9.7 in c:\\users\\renato.valentim\\appdata\\local\\programs\\python\\python39\\lib\\site-packages (from -r requirements.txt (line 27)) (0.10.9.7)\n",
      "Requirement already satisfied: Pygments==2.19.1 in c:\\users\\renato.valentim\\appdata\\roaming\\python\\python39\\site-packages (from -r requirements.txt (line 28)) (2.19.1)\n",
      "Requirement already satisfied: pyspark==3.5.4 in c:\\users\\renato.valentim\\appdata\\local\\programs\\python\\python39\\lib\\site-packages (from -r requirements.txt (line 29)) (3.5.4)\n",
      "Requirement already satisfied: python-dateutil==2.9.0.post0 in c:\\users\\renato.valentim\\appdata\\roaming\\python\\python39\\site-packages (from -r requirements.txt (line 30)) (2.9.0.post0)\n",
      "Requirement already satisfied: pytz==2025.1 in c:\\users\\renato.valentim\\appdata\\local\\programs\\python\\python39\\lib\\site-packages (from -r requirements.txt (line 31)) (2025.1)\n",
      "Requirement already satisfied: pywin32==308 in c:\\users\\renato.valentim\\appdata\\roaming\\python\\python39\\site-packages (from -r requirements.txt (line 32)) (308)\n",
      "Requirement already satisfied: pyzmq==26.2.1 in c:\\users\\renato.valentim\\appdata\\roaming\\python\\python39\\site-packages (from -r requirements.txt (line 33)) (26.2.1)\n",
      "Requirement already satisfied: six==1.17.0 in c:\\users\\renato.valentim\\appdata\\roaming\\python\\python39\\site-packages (from -r requirements.txt (line 34)) (1.17.0)\n",
      "Requirement already satisfied: stack-data==0.6.3 in c:\\users\\renato.valentim\\appdata\\roaming\\python\\python39\\site-packages (from -r requirements.txt (line 35)) (0.6.3)\n",
      "Requirement already satisfied: tornado==6.4.2 in c:\\users\\renato.valentim\\appdata\\roaming\\python\\python39\\site-packages (from -r requirements.txt (line 36)) (6.4.2)\n",
      "Requirement already satisfied: tqdm==4.67.1 in c:\\users\\renato.valentim\\appdata\\local\\programs\\python\\python39\\lib\\site-packages (from -r requirements.txt (line 37)) (4.67.1)\n",
      "Requirement already satisfied: traitlets==5.14.3 in c:\\users\\renato.valentim\\appdata\\roaming\\python\\python39\\site-packages (from -r requirements.txt (line 38)) (5.14.3)\n",
      "Requirement already satisfied: typing_extensions==4.12.2 in c:\\users\\renato.valentim\\appdata\\roaming\\python\\python39\\site-packages (from -r requirements.txt (line 39)) (4.12.2)\n",
      "Requirement already satisfied: tzdata==2025.1 in c:\\users\\renato.valentim\\appdata\\local\\programs\\python\\python39\\lib\\site-packages (from -r requirements.txt (line 40)) (2025.1)\n",
      "Requirement already satisfied: Unidecode==1.3.8 in c:\\users\\renato.valentim\\appdata\\local\\programs\\python\\python39\\lib\\site-packages (from -r requirements.txt (line 41)) (1.3.8)\n",
      "Requirement already satisfied: urllib3==2.3.0 in c:\\users\\renato.valentim\\appdata\\local\\programs\\python\\python39\\lib\\site-packages (from -r requirements.txt (line 42)) (2.3.0)\n",
      "Requirement already satisfied: wcwidth==0.2.13 in c:\\users\\renato.valentim\\appdata\\roaming\\python\\python39\\site-packages (from -r requirements.txt (line 43)) (0.2.13)\n",
      "Requirement already satisfied: zipp==3.21.0 in c:\\users\\renato.valentim\\appdata\\roaming\\python\\python39\\site-packages (from -r requirements.txt (line 44)) (3.21.0)\n",
      "Note: you may need to restart the kernel to use updated packages.\n"
     ]
    },
    {
     "name": "stderr",
     "output_type": "stream",
     "text": [
      "WARNING: You are using pip version 22.0.4; however, version 25.0.1 is available.\n",
      "You should consider upgrading via the 'c:\\Users\\renato.valentim\\AppData\\Local\\Programs\\Python\\Python39\\python.exe -m pip install --upgrade pip' command.\n"
     ]
    }
   ],
   "source": [
    "%pip install -r requirements.txt"
   ]
  },
  {
   "cell_type": "markdown",
   "metadata": {},
   "source": [
    "### Imports & Paths"
   ]
  },
  {
   "cell_type": "code",
   "execution_count": 2,
   "metadata": {},
   "outputs": [],
   "source": [
    "from utils import *"
   ]
  },
  {
   "cell_type": "code",
   "execution_count": 3,
   "metadata": {},
   "outputs": [],
   "source": [
    "\n",
    "CORPUS_PATH = f\"{MAIN_PATH}/ofertas_es_07032025.csv\""
   ]
  },
  {
   "cell_type": "markdown",
   "metadata": {},
   "source": [
    "### Corpus Data"
   ]
  },
  {
   "cell_type": "code",
   "execution_count": 6,
   "metadata": {},
   "outputs": [],
   "source": [
    "df_corpus = (\n",
    "  spark.read\n",
    "  .option(\"header\", True)\n",
    "  .option(\"inferSchema\", True)\n",
    "  .option(\"multiline\", True)\n",
    "  .option(\"quote\", '\"')\n",
    "  .option(\"escape\", \"\\\\\")\n",
    "  .option(\"sep\", \";\")\n",
    "  .option(\"ignoreLeadingWhiteSpace\", True)\n",
    "  .option(\"ignoreTrailingWhiteSpace\", True)\n",
    "  .csv(CORPUS_PATH)\n",
    "  .withColumnRenamed(\"DESC_PRODUCT\", \"desc_product\")\n",
    "  .select('id_product', 'desc_product')\n",
    ")"
   ]
  },
  {
   "cell_type": "code",
   "execution_count": 7,
   "metadata": {},
   "outputs": [],
   "source": [
    "terms = [\"OUTLET\", \"ANUNCIO\", \"OLD\"]\n",
    "df_corpus = remove_terms_from_column(df_corpus, terms, column_name=\"desc_product\")"
   ]
  },
  {
   "cell_type": "code",
   "execution_count": 8,
   "metadata": {},
   "outputs": [
    {
     "name": "stdout",
     "output_type": "stream",
     "text": [
      "Número de Ofertas: 897,211\n"
     ]
    }
   ],
   "source": [
    "print(\"Número de Ofertas:\", f\"{df_corpus.count():,}\")"
   ]
  },
  {
   "cell_type": "code",
   "execution_count": 9,
   "metadata": {},
   "outputs": [
    {
     "name": "stdout",
     "output_type": "stream",
     "text": [
      "+----------+---------------------------------------------------------------------------------+\n",
      "|id_product|desc_product                                                                     |\n",
      "+----------+---------------------------------------------------------------------------------+\n",
      "|77972762  |MESA DE ESCRITORIO KUANDRA NOGAL E PRETA                                         |\n",
      "|113606819 |RACK PARA TV ATE 43 POLEGADAS CARINHO 1 PT CINAMOMO                              |\n",
      "|127468252 |COLCHAO ORTOPEDICO PREMIUM QUEEN                                                 |\n",
      "|113440274 |BALCAO PARA COZINHA 2 PORTAS 3 GAVETAS PROVENCAIS SEM TAMPO ILUMINATA            |\n",
      "|82899687  |MESA AMSTERDA TAMPO GIRATORIO DOBUE CEDRO OFF WHITE 136M                         |\n",
      "|104642417 |COLCHAO SOLTEIRO ORTOBOM LIGHT ORTOPEDICO 88X188X24                              |\n",
      "|124330736 |COLCHAO CASAL ANJOS MOLAS SUPERLASTIC CLASSIC 1                                  |\n",
      "|93263819  |PAINEL LED SOB QUAD CCT SMART 18W 1300LM                                         |\n",
      "|93415372  |COZINHA COLORMAQ FIRENZE 3 PECAS BRANCO                                          |\n",
      "|113877474 |BALCAO COM TAMPO 2 PORTAS EM MDP 80CM MACADAMIA TELASUL FREIJOBRANCO             |\n",
      "|80840795  |ESTANTE DE PLASTICO SAO BERNARDO MULTIUSO COM 4 PRATELEIRAS BRANCA 719X40X20CM   |\n",
      "|103430284 |ESCRIVANINHA POLITORNO MANAUS COM 2 PORTAS LEGNOSALINAS                          |\n",
      "|79051571  |PAINEL VENUS BRANCO AMENDOA TEBARROT MOVEIS                                      |\n",
      "|133758425 |ARMARIO AEREO MULTIUSO 80CM 1 PORTA BASCULANTE BRA                               |\n",
      "|94025037  |BALCAO PARA PIA DE 160 MT RECIFE 3 GAVETAS CASTANHO                              |\n",
      "|112515882 |MESA DE ESCRITORIO PEDESTAL 3 GAVETAS 190X70 TPO 30MM NETMOBIL DUBAI             |\n",
      "|59929579  |BANCO RETO FITNESS DE ACADEMIA PARA EXERCICIOS FISICOS                           |\n",
      "|12847198  |GUARDA ROUPA SOLTEIRO 2 PORTAS DE CORRER LUKE MADESA                             |\n",
      "|127290913 |POLTRONACADEIRA DECORATIVA GLAMOUR OPALA COM BASE GIRATORIA 30CM EM MADEIRA CINZA|\n",
      "|89003721  |BALCAO DE COZINHA FRUTEIRA GANA BRANCO CASA MOBILIA                              |\n",
      "+----------+---------------------------------------------------------------------------------+\n",
      "only showing top 20 rows\n",
      "\n"
     ]
    }
   ],
   "source": [
    "df_corpus.show(truncate=False)"
   ]
  },
  {
   "cell_type": "markdown",
   "metadata": {},
   "source": [
    "### Elastic Search"
   ]
  },
  {
   "cell_type": "code",
   "execution_count": 10,
   "metadata": {},
   "outputs": [],
   "source": [
    "# Coletar as linhas do DataFrame e preparar para envio em lote\n",
    "rows = df_corpus.collect()\n",
    "actions = list(generate_actions(rows))"
   ]
  },
  {
   "cell_type": "code",
   "execution_count": 11,
   "metadata": {},
   "outputs": [
    {
     "name": "stdout",
     "output_type": "stream",
     "text": [
      "Aqui estão alguns exemplos das actions criadas para index no ES\n"
     ]
    },
    {
     "data": {
      "text/plain": [
       "(None,\n",
       " [{'_index': 'ofertas_corpus',\n",
       "   '_id': '77972762',\n",
       "   '_source': {'desc_product': 'MESA DE ESCRITORIO KUANDRA NOGAL E PRETA'}},\n",
       "  {'_index': 'ofertas_corpus',\n",
       "   '_id': '113606819',\n",
       "   '_source': {'desc_product': 'RACK PARA TV ATE 43 POLEGADAS CARINHO 1 PT CINAMOMO'}}])"
      ]
     },
     "execution_count": 11,
     "metadata": {},
     "output_type": "execute_result"
    }
   ],
   "source": [
    "print(\"Aqui estão alguns exemplos das actions criadas para index no ES\"), actions[:2]"
   ]
  },
  {
   "cell_type": "code",
   "execution_count": 12,
   "metadata": {},
   "outputs": [
    {
     "name": "stdout",
     "output_type": "stream",
     "text": [
      "Dados do corpus carregados com sucesso!\n"
     ]
    }
   ],
   "source": [
    "# Enviar os dados para o Elasticsearch\n",
    "bulk(es, actions)\n",
    "\n",
    "print(\"Dados do corpus carregados com sucesso!\")"
   ]
  }
 ],
 "metadata": {
  "kernelspec": {
   "display_name": "Python 3",
   "language": "python",
   "name": "python3"
  },
  "language_info": {
   "codemirror_mode": {
    "name": "ipython",
    "version": 3
   },
   "file_extension": ".py",
   "mimetype": "text/x-python",
   "name": "python",
   "nbconvert_exporter": "python",
   "pygments_lexer": "ipython3",
   "version": "3.9.13"
  }
 },
 "nbformat": 4,
 "nbformat_minor": 2
}
