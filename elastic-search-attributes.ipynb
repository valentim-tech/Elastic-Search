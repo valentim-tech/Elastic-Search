{
 "cells": [
  {
   "cell_type": "markdown",
   "metadata": {},
   "source": [
    "### Installing Dependencies"
   ]
  },
  {
   "cell_type": "code",
   "execution_count": 1,
   "metadata": {},
   "outputs": [
    {
     "name": "stdout",
     "output_type": "stream",
     "text": [
      "Requirement already satisfied: asttokens==3.0.0 in c:\\users\\renato.valentim\\appdata\\roaming\\python\\python39\\site-packages (from -r requirements.txt (line 1)) (3.0.0)\n",
      "Requirement already satisfied: certifi==2025.1.31 in c:\\users\\renato.valentim\\appdata\\local\\programs\\python\\python39\\lib\\site-packages (from -r requirements.txt (line 2)) (2025.1.31)\n",
      "Requirement already satisfied: colorama==0.4.6 in c:\\users\\renato.valentim\\appdata\\roaming\\python\\python39\\site-packages (from -r requirements.txt (line 3)) (0.4.6)\n",
      "Requirement already satisfied: comm==0.2.2 in c:\\users\\renato.valentim\\appdata\\roaming\\python\\python39\\site-packages (from -r requirements.txt (line 4)) (0.2.2)\n",
      "Requirement already satisfied: debugpy==1.8.12 in c:\\users\\renato.valentim\\appdata\\roaming\\python\\python39\\site-packages (from -r requirements.txt (line 5)) (1.8.12)\n",
      "Requirement already satisfied: decorator==5.1.1 in c:\\users\\renato.valentim\\appdata\\roaming\\python\\python39\\site-packages (from -r requirements.txt (line 6)) (5.1.1)\n",
      "Requirement already satisfied: elastic-transport==8.17.0 in c:\\users\\renato.valentim\\appdata\\local\\programs\\python\\python39\\lib\\site-packages (from -r requirements.txt (line 7)) (8.17.0)\n",
      "Requirement already satisfied: elasticsearch==8.17.1 in c:\\users\\renato.valentim\\appdata\\local\\programs\\python\\python39\\lib\\site-packages (from -r requirements.txt (line 8)) (8.17.1)\n",
      "Requirement already satisfied: exceptiongroup==1.2.2 in c:\\users\\renato.valentim\\appdata\\roaming\\python\\python39\\site-packages (from -r requirements.txt (line 9)) (1.2.2)\n",
      "Requirement already satisfied: executing==2.2.0 in c:\\users\\renato.valentim\\appdata\\roaming\\python\\python39\\site-packages (from -r requirements.txt (line 10)) (2.2.0)\n",
      "Requirement already satisfied: importlib_metadata==8.6.1 in c:\\users\\renato.valentim\\appdata\\roaming\\python\\python39\\site-packages (from -r requirements.txt (line 11)) (8.6.1)\n",
      "Requirement already satisfied: ipykernel==6.29.5 in c:\\users\\renato.valentim\\appdata\\roaming\\python\\python39\\site-packages (from -r requirements.txt (line 12)) (6.29.5)\n",
      "Requirement already satisfied: ipython==8.18.1 in c:\\users\\renato.valentim\\appdata\\roaming\\python\\python39\\site-packages (from -r requirements.txt (line 13)) (8.18.1)\n",
      "Requirement already satisfied: jedi==0.19.2 in c:\\users\\renato.valentim\\appdata\\roaming\\python\\python39\\site-packages (from -r requirements.txt (line 14)) (0.19.2)\n",
      "Requirement already satisfied: jupyter_client==8.6.3 in c:\\users\\renato.valentim\\appdata\\roaming\\python\\python39\\site-packages (from -r requirements.txt (line 15)) (8.6.3)\n",
      "Requirement already satisfied: jupyter_core==5.7.2 in c:\\users\\renato.valentim\\appdata\\roaming\\python\\python39\\site-packages (from -r requirements.txt (line 16)) (5.7.2)\n",
      "Requirement already satisfied: matplotlib-inline==0.1.7 in c:\\users\\renato.valentim\\appdata\\roaming\\python\\python39\\site-packages (from -r requirements.txt (line 17)) (0.1.7)\n",
      "Requirement already satisfied: nest-asyncio==1.6.0 in c:\\users\\renato.valentim\\appdata\\roaming\\python\\python39\\site-packages (from -r requirements.txt (line 18)) (1.6.0)\n",
      "Requirement already satisfied: numpy==2.0.2 in c:\\users\\renato.valentim\\appdata\\local\\programs\\python\\python39\\lib\\site-packages (from -r requirements.txt (line 19)) (2.0.2)\n",
      "Requirement already satisfied: packaging==24.2 in c:\\users\\renato.valentim\\appdata\\roaming\\python\\python39\\site-packages (from -r requirements.txt (line 20)) (24.2)\n",
      "Requirement already satisfied: pandas==2.2.3 in c:\\users\\renato.valentim\\appdata\\local\\programs\\python\\python39\\lib\\site-packages (from -r requirements.txt (line 21)) (2.2.3)\n",
      "Requirement already satisfied: parso==0.8.4 in c:\\users\\renato.valentim\\appdata\\roaming\\python\\python39\\site-packages (from -r requirements.txt (line 22)) (0.8.4)\n",
      "Requirement already satisfied: platformdirs==4.3.6 in c:\\users\\renato.valentim\\appdata\\roaming\\python\\python39\\site-packages (from -r requirements.txt (line 23)) (4.3.6)\n",
      "Requirement already satisfied: prompt_toolkit==3.0.50 in c:\\users\\renato.valentim\\appdata\\roaming\\python\\python39\\site-packages (from -r requirements.txt (line 24)) (3.0.50)\n",
      "Requirement already satisfied: psutil==7.0.0 in c:\\users\\renato.valentim\\appdata\\roaming\\python\\python39\\site-packages (from -r requirements.txt (line 25)) (7.0.0)\n",
      "Requirement already satisfied: pure_eval==0.2.3 in c:\\users\\renato.valentim\\appdata\\roaming\\python\\python39\\site-packages (from -r requirements.txt (line 26)) (0.2.3)\n",
      "Requirement already satisfied: py4j==0.10.9.7 in c:\\users\\renato.valentim\\appdata\\local\\programs\\python\\python39\\lib\\site-packages (from -r requirements.txt (line 27)) (0.10.9.7)\n",
      "Requirement already satisfied: Pygments==2.19.1 in c:\\users\\renato.valentim\\appdata\\roaming\\python\\python39\\site-packages (from -r requirements.txt (line 28)) (2.19.1)\n",
      "Requirement already satisfied: pyspark==3.5.4 in c:\\users\\renato.valentim\\appdata\\local\\programs\\python\\python39\\lib\\site-packages (from -r requirements.txt (line 29)) (3.5.4)\n",
      "Requirement already satisfied: python-dateutil==2.9.0.post0 in c:\\users\\renato.valentim\\appdata\\roaming\\python\\python39\\site-packages (from -r requirements.txt (line 30)) (2.9.0.post0)\n",
      "Requirement already satisfied: pytz==2025.1 in c:\\users\\renato.valentim\\appdata\\local\\programs\\python\\python39\\lib\\site-packages (from -r requirements.txt (line 31)) (2025.1)\n",
      "Requirement already satisfied: pywin32==308 in c:\\users\\renato.valentim\\appdata\\roaming\\python\\python39\\site-packages (from -r requirements.txt (line 32)) (308)\n",
      "Requirement already satisfied: pyzmq==26.2.1 in c:\\users\\renato.valentim\\appdata\\roaming\\python\\python39\\site-packages (from -r requirements.txt (line 33)) (26.2.1)\n",
      "Requirement already satisfied: six==1.17.0 in c:\\users\\renato.valentim\\appdata\\roaming\\python\\python39\\site-packages (from -r requirements.txt (line 34)) (1.17.0)\n",
      "Requirement already satisfied: stack-data==0.6.3 in c:\\users\\renato.valentim\\appdata\\roaming\\python\\python39\\site-packages (from -r requirements.txt (line 35)) (0.6.3)\n",
      "Requirement already satisfied: tornado==6.4.2 in c:\\users\\renato.valentim\\appdata\\roaming\\python\\python39\\site-packages (from -r requirements.txt (line 36)) (6.4.2)\n",
      "Requirement already satisfied: tqdm==4.67.1 in c:\\users\\renato.valentim\\appdata\\local\\programs\\python\\python39\\lib\\site-packages (from -r requirements.txt (line 37)) (4.67.1)\n",
      "Requirement already satisfied: traitlets==5.14.3 in c:\\users\\renato.valentim\\appdata\\roaming\\python\\python39\\site-packages (from -r requirements.txt (line 38)) (5.14.3)\n",
      "Requirement already satisfied: typing_extensions==4.12.2 in c:\\users\\renato.valentim\\appdata\\roaming\\python\\python39\\site-packages (from -r requirements.txt (line 39)) (4.12.2)\n",
      "Requirement already satisfied: tzdata==2025.1 in c:\\users\\renato.valentim\\appdata\\local\\programs\\python\\python39\\lib\\site-packages (from -r requirements.txt (line 40)) (2025.1)\n",
      "Requirement already satisfied: Unidecode==1.3.8 in c:\\users\\renato.valentim\\appdata\\local\\programs\\python\\python39\\lib\\site-packages (from -r requirements.txt (line 41)) (1.3.8)\n",
      "Requirement already satisfied: urllib3==2.3.0 in c:\\users\\renato.valentim\\appdata\\local\\programs\\python\\python39\\lib\\site-packages (from -r requirements.txt (line 42)) (2.3.0)\n",
      "Requirement already satisfied: wcwidth==0.2.13 in c:\\users\\renato.valentim\\appdata\\roaming\\python\\python39\\site-packages (from -r requirements.txt (line 43)) (0.2.13)\n",
      "Requirement already satisfied: zipp==3.21.0 in c:\\users\\renato.valentim\\appdata\\roaming\\python\\python39\\site-packages (from -r requirements.txt (line 44)) (3.21.0)\n",
      "Note: you may need to restart the kernel to use updated packages.\n"
     ]
    },
    {
     "name": "stderr",
     "output_type": "stream",
     "text": [
      "WARNING: You are using pip version 22.0.4; however, version 25.0.1 is available.\n",
      "You should consider upgrading via the 'c:\\Users\\renato.valentim\\AppData\\Local\\Programs\\Python\\Python39\\python.exe -m pip install --upgrade pip' command.\n"
     ]
    }
   ],
   "source": [
    "%pip install -r requirements.txt"
   ]
  },
  {
   "cell_type": "markdown",
   "metadata": {},
   "source": [
    "### Imports and Paths"
   ]
  },
  {
   "cell_type": "code",
   "execution_count": 2,
   "metadata": {},
   "outputs": [],
   "source": [
    "from utils import *"
   ]
  },
  {
   "cell_type": "code",
   "execution_count": 3,
   "metadata": {},
   "outputs": [],
   "source": [
    "CATALOG_PATH = f\"{MAIN_PATH}/ofertas_catalogo_mobly_enriquecidas.csv\""
   ]
  },
  {
   "cell_type": "markdown",
   "metadata": {},
   "source": [
    "### Loading Query Data"
   ]
  },
  {
   "cell_type": "code",
   "execution_count": 4,
   "metadata": {},
   "outputs": [],
   "source": [
    "df_catalog = (\n",
    "  spark.read\n",
    "  .option(\"header\", True)\n",
    "  .option(\"inferSchema\", True)\n",
    "  .option(\"multiline\", True)\n",
    "  .option(\"quote\", '\"')\n",
    "  .option(\"escape\", \"\\\\\")\n",
    "  .option(\"sep\", \";\")\n",
    "  .option(\"ignoreLeadingWhiteSpace\", True)\n",
    "  .option(\"ignoreTrailingWhiteSpace\", True)\n",
    "  .csv(CATALOG_PATH)\n",
    "\n",
    "  # Transformações importantes das columns\n",
    "  .withColumnRenamed('Categoria', 'categoria')\n",
    "  .withColumnRenamed('Marca', 'marca')\n",
    "  .withColumnRenamed('Cor', 'cor')\n",
    "  .withColumnRenamed('Preço', 'preco_medio')\n",
    "  .withColumn(\"preco_medio\", f.regexp_replace(f.col(\"preco_medio\"), \"R\\\\$ \", \"\"))\n",
    "  .withColumn(\"preco_medio\", f.regexp_replace(f.col(\"preco_medio\"), \"\\\\.\", \"\"))\n",
    "  .withColumn(\"preco_medio\", f.regexp_replace(f.col(\"preco_medio\"), \",\", \".\"))\n",
    "  .withColumn('preco_medio', f.col('preco_medio').cast('double'))\n",
    "  .withColumnRenamed('Nome', 'desc_product')\n",
    "  .withColumnRenamed('SKU', 'sku')\n",
    "  .withColumnRenamed('ATRIBUTO 3', 'atributo_1')\n",
    "  .withColumnRenamed('ATRIBUTO 4', 'atributo_2')\n",
    "  .withColumnRenamed('ATRIBUTO 5', 'atributo_3')\n",
    "  .withColumnRenamed('ATRIBUTO 6', 'atributo_4')\n",
    "  .withColumnRenamed('ATRIBUTO 7', 'atributo_5')\n",
    "  .withColumnRenamed('ATRIBUTO 8', 'atributo_6')\n",
    ")"
   ]
  },
  {
   "cell_type": "code",
   "execution_count": 5,
   "metadata": {},
   "outputs": [],
   "source": [
    "df = remove_accents_df(\n",
    "    df=df_catalog, \n",
    "    columns=[\n",
    "        \"desc_product\", \"categoria\", \"marca\", \"cor\", \n",
    "        \"atributo_1\", \"atributo_2\", \"atributo_3\", \n",
    "        \"atributo_4\", \"atributo_5\", \"atributo_6\"]\n",
    "    )\n",
    "df = convert_string_columns_to_upper(df)"
   ]
  },
  {
   "cell_type": "code",
   "execution_count": 6,
   "metadata": {},
   "outputs": [],
   "source": [
    "columns = [\"categoria\", \"marca\", \"cor\"]\n",
    "\n",
    "# Iterar por todas as colunas no DataFrame\n",
    "for column in columns:\n",
    "        # Converter a string column para uppercase\n",
    "        df = clean_text_column(df, column)"
   ]
  },
  {
   "cell_type": "markdown",
   "metadata": {},
   "source": [
    "### Performing Elastic Search"
   ]
  },
  {
   "cell_type": "code",
   "execution_count": 7,
   "metadata": {},
   "outputs": [],
   "source": [
    "df_rows = df.collect()"
   ]
  },
  {
   "cell_type": "code",
   "execution_count": 8,
   "metadata": {},
   "outputs": [
    {
     "name": "stderr",
     "output_type": "stream",
     "text": [
      "Searching: 100%|██████████| 99/99 [00:05<00:00, 16.62it/s]\n"
     ]
    }
   ],
   "source": [
    "NUM_RESULTS_PER_QUERY = 10\n",
    "final_results = perform_elastic_search_attributes(df_rows, num_results_per_query=NUM_RESULTS_PER_QUERY)"
   ]
  },
  {
   "cell_type": "markdown",
   "metadata": {},
   "source": [
    "### Saving Results in .CSV"
   ]
  },
  {
   "cell_type": "code",
   "execution_count": 9,
   "metadata": {},
   "outputs": [],
   "source": [
    "timestamp = datetime.now().strftime(\"%Y%m%d_%H%M\")\n",
    "output_path = f\"outputs/attributes_{NUM_RESULTS_PER_QUERY}_most_similar_descriptions_{timestamp}_.csv\""
   ]
  },
  {
   "cell_type": "code",
   "execution_count": 10,
   "metadata": {},
   "outputs": [],
   "source": [
    "column_names = [\n",
    "    'sku', 'catalog_desc', 'id_product', 'similar_desc', 'elastic_score', 'normalize_score', 'preco_medio', \n",
    "    'categoria', 'marca', 'cor', 'atributo_1', 'atributo_2', 'atributo_3', 'atributo_4', 'atributo_5', 'atributo_6'\n",
    "]\n",
    "\n",
    "save_csv(final_results, output_path, column_names)"
   ]
  },
  {
   "cell_type": "markdown",
   "metadata": {},
   "source": [
    "### Loading Final Results"
   ]
  },
  {
   "cell_type": "code",
   "execution_count": 11,
   "metadata": {},
   "outputs": [],
   "source": [
    "df_result = (\n",
    "    spark.read\n",
    "    .option(\"header\", True)\n",
    "    .option(\"inferSchema\", True)\n",
    "    .option(\"multiline\", True)\n",
    "    .option(\"quote\", '\"')\n",
    "    .option(\"escape\", \"\\\\\")\n",
    "    .option(\"sep\", \";\")\n",
    "    .option(\"ignoreLeadingWhiteSpace\", True)\n",
    "    .option(\"ignoreTrailingWhiteSpace\", True)\n",
    "    .csv(output_path)\n",
    ")"
   ]
  },
  {
   "cell_type": "code",
   "execution_count": 12,
   "metadata": {},
   "outputs": [
    {
     "name": "stdout",
     "output_type": "stream",
     "text": [
      "+----------------------+-----------------------------------+----------+-------------------------------------------------------------+-------------+-----------------+-----------+-------------------------------------------------------------+-------------+-------------+-------------+-------------+-------------+-------------+-------------+-------------+\n",
      "|sku                   |catalog_desc                       |id_product|similar_desc                                                 |elastic_score|normalize_score  |preco_medio|categoria                                                    |marca        |cor          |atributo_1   |atributo_2   |atributo_3   |atributo_4   |atributo_5   |atributo_6   |\n",
      "+----------------------+-----------------------------------+----------+-------------------------------------------------------------+-------------+-----------------+-----------+-------------------------------------------------------------+-------------+-------------+-------------+-------------+-------------+-------------+-------------+-------------+\n",
      "|GE238CL72HRVMOB-545758|ARMARIO MULTIUSO XANGAI 2 PT BRANCA|87773441  |ARMARIO MULTIUSO XANGAI 2 PT BRANCA                          |32.515564    |100.0            |206.69     |ARMARIOS BALCOES GUARDA ROUPAS ESTANTES RACKS E PAINEIS DE TV|NAO INFORMADO|BRANCA       |NAO INFORMADO|NAO INFORMADO|2            |NAO INFORMADO|NAO INFORMADO|NAO INFORMADO|\n",
      "|GE238CL72HRVMOB-545758|ARMARIO MULTIUSO XANGAI 2 PT BRANCA|110813368 |ARMARIO MULTIUSO XANGAI 2 PT BRANCA                          |30.924587    |100.0            |133.99     |ARMARIOS BALCOES GUARDA ROUPAS ESTANTES RACKS E PAINEIS DE TV|NAO INFORMADO|BRANCA       |NAO INFORMADO|NAO INFORMADO|NAO INFORMADO|NAO INFORMADO|NAO INFORMADO|NAO INFORMADO|\n",
      "|GE238CL72HRVMOB-545758|ARMARIO MULTIUSO XANGAI 2 PT BRANCA|96869350  |ARMARIO MULTIUSO XANGAI 2 PT PRETO                           |28.358635    |87.21557159519054|131.48     |ARMARIOS BALCOES GUARDA ROUPAS ESTANTES RACKS E PAINEIS DE TV|NAO INFORMADO|PRETO        |NAO INFORMADO|NAO INFORMADO|2            |NAO INFORMADO|NAO INFORMADO|NAO INFORMADO|\n",
      "|GE238CL72HRVMOB-545758|ARMARIO MULTIUSO XANGAI 2 PT BRANCA|73476332  |ARMARIO MULTIUSO XANGAI 2 PT PRETO                           |28.358635    |87.21557159519054|195.44     |ARMARIOS BALCOES GUARDA ROUPAS ESTANTES RACKS E PAINEIS DE TV|NAO INFORMADO|PRETO        |NAO INFORMADO|NAO INFORMADO|2            |NAO INFORMADO|NAO INFORMADO|NAO INFORMADO|\n",
      "|GE238CL72HRVMOB-545758|ARMARIO MULTIUSO XANGAI 2 PT BRANCA|77893924  |ARMARIO MULTIUSO XANGAI 2 PT BRUNNE                          |28.358635    |87.21557159519054|149.51     |ARMARIOS BALCOES GUARDA ROUPAS ESTANTES RACKS E PAINEIS DE TV|NAO INFORMADO|BRUNNE       |NAO INFORMADO|NAO INFORMADO|2            |NAO INFORMADO|NAO INFORMADO|NAO INFORMADO|\n",
      "|GE238CL72HRVMOB-545758|ARMARIO MULTIUSO XANGAI 2 PT BRANCA|128039715 |ARMARIO MULTIUSO 2 PORTAS XANGAI                             |26.308039    |80.90906557856417|245.72     |ARMARIOS BALCOES GUARDA ROUPAS ESTANTES RACKS E PAINEIS DE TV|NAO INFORMADO|NAO INFORMADO|NAO INFORMADO|NAO INFORMADO|2            |NAO INFORMADO|NAO INFORMADO|NAO INFORMADO|\n",
      "|GE238CL72HRVMOB-545758|ARMARIO MULTIUSO XANGAI 2 PT BRANCA|22246300  |ARMARIO MULTIUSO 2 PORTAS XANGAI GENIALFLEX BRANCO           |26.297459    |80.87652731473457|228.59     |ARMARIOS BALCOES GUARDA ROUPAS ESTANTES RACKS E PAINEIS DE TV|GENIALFLEX   |BRANCO       |NAO INFORMADO|NAO INFORMADO|2            |NAO INFORMADO|NAO INFORMADO|NAO INFORMADO|\n",
      "|GE238CL72HRVMOB-545758|ARMARIO MULTIUSO XANGAI 2 PT BRANCA|46482328  |ARMARIO MULTIUSO XANGAI 2 PORTAS GENIAL BRANCO               |26.297459    |80.87652731473457|184.51     |ARMARIOS BALCOES GUARDA ROUPAS ESTANTES RACKS E PAINEIS DE TV|NAO INFORMADO|BRANCO       |NAO INFORMADO|NAO INFORMADO|2            |NAO INFORMADO|NAO INFORMADO|NAO INFORMADO|\n",
      "|GE238CL72HRVMOB-545758|ARMARIO MULTIUSO XANGAI 2 PT BRANCA|47527465  |ARMARIO MULTIUSO STAR II 2 PT BRANCA                         |25.879465    |79.5910075556432 |274.85     |ARMARIOS BALCOES GUARDA ROUPAS ESTANTES RACKS E PAINEIS DE TV|NAO INFORMADO|BRANCA       |NAO INFORMADO|NAO INFORMADO|2            |NAO INFORMADO|NAO INFORMADO|NAO INFORMADO|\n",
      "|GE238CL72HRVMOB-545758|ARMARIO MULTIUSO XANGAI 2 PT BRANCA|93454510  |ARMARIO GENIAL MULTIUSO XANGAI 2 PORTAS BRANCO SV            |25.585974    |78.68839058119983|108.62     |ARMARIOS BALCOES GUARDA ROUPAS ESTANTES RACKS E PAINEIS DE TV|NAO INFORMADO|BRANCO       |NAO INFORMADO|NAO INFORMADO|2            |NAO INFORMADO|NAO INFORMADO|NAO INFORMADO|\n",
      "|GE995CL54TINMOB-948054|ARMARIO MULTIUSO XANGAI 2 PT PRETO |76772536  |ARMARIO MULTIUSO XANGAI 2 PORTAS PRETO FOSCO GENIALFLEX      |35.916954    |100.0            |234.83     |ARMARIOS BALCOES GUARDA ROUPAS ESTANTES RACKS E PAINEIS DE TV|GENIALFLEX   |PRETO FOSCO  |NAO INFORMADO|NAO INFORMADO|2            |NAO INFORMADO|NAO INFORMADO|NAO INFORMADO|\n",
      "|GE995CL54TINMOB-948054|ARMARIO MULTIUSO XANGAI 2 PT PRETO |108875519 |ARMARIO MULTIUSO CASAL XANGAI C 2 PORTAS PRETO GENIALFLEX    |35.62083     |99.1755314217347 |282.96     |ARMARIOS BALCOES GUARDA ROUPAS ESTANTES RACKS E PAINEIS DE TV|GENIALFLEX   |PRETO        |NAO INFORMADO|NAO INFORMADO|2            |NAO INFORMADO|NAO INFORMADO|NAO INFORMADO|\n",
      "|GE995CL54TINMOB-948054|ARMARIO MULTIUSO XANGAI 2 PT PRETO |96869350  |ARMARIO MULTIUSO XANGAI 2 PT PRETO                           |33.345524    |100.0            |131.48     |ARMARIOS BALCOES GUARDA ROUPAS ESTANTES RACKS E PAINEIS DE TV|NAO INFORMADO|PRETO        |NAO INFORMADO|NAO INFORMADO|2            |NAO INFORMADO|NAO INFORMADO|NAO INFORMADO|\n",
      "|GE995CL54TINMOB-948054|ARMARIO MULTIUSO XANGAI 2 PT PRETO |73476332  |ARMARIO MULTIUSO XANGAI 2 PT PRETO                           |33.345524    |100.0            |195.44     |ARMARIOS BALCOES GUARDA ROUPAS ESTANTES RACKS E PAINEIS DE TV|NAO INFORMADO|PRETO        |NAO INFORMADO|NAO INFORMADO|2            |NAO INFORMADO|NAO INFORMADO|NAO INFORMADO|\n",
      "|GE995CL54TINMOB-948054|ARMARIO MULTIUSO XANGAI 2 PT PRETO |22246300  |ARMARIO MULTIUSO 2 PORTAS XANGAI GENIALFLEX BRANCO           |32.37007     |90.12476392068214|228.59     |ARMARIOS BALCOES GUARDA ROUPAS ESTANTES RACKS E PAINEIS DE TV|GENIALFLEX   |BRANCO       |NAO INFORMADO|NAO INFORMADO|2            |NAO INFORMADO|NAO INFORMADO|NAO INFORMADO|\n",
      "|GE995CL54TINMOB-948054|ARMARIO MULTIUSO XANGAI 2 PT PRETO |100896097 |ARMARIO SAPATEIRA SOLTEIRO XANGAI C 2 PORTAS PRETO GENIALFLEX|31.659845    |88.14735514598483|319.48     |ARMARIOS BALCOES GUARDA ROUPAS ESTANTES RACKS E PAINEIS DE TV|GENIALFLEX   |PRETO        |NAO INFORMADO|NAO INFORMADO|2            |NAO INFORMADO|NAO INFORMADO|NAO INFORMADO|\n",
      "|GE995CL54TINMOB-948054|ARMARIO MULTIUSO XANGAI 2 PT PRETO |104724169 |ARMARIO SAPATEIRA QUARTO XANGAI C 2 PORTAS PRETO GENIALFLEX  |31.659845    |88.14735514598483|262.06     |ARMARIOS BALCOES GUARDA ROUPAS ESTANTES RACKS E PAINEIS DE TV|GENIALFLEX   |PRETO        |NAO INFORMADO|NAO INFORMADO|2            |NAO INFORMADO|NAO INFORMADO|NAO INFORMADO|\n",
      "|GE995CL54TINMOB-948054|ARMARIO MULTIUSO XANGAI 2 PT PRETO |110231375 |ARMARIO SAPATEIRA CASAL XANGAI C 2 PORTAS PRETO GENIALFLEX   |31.659845    |88.14735514598483|244.79     |ARMARIOS BALCOES GUARDA ROUPAS ESTANTES RACKS E PAINEIS DE TV|GENIALFLEX   |PRETO        |NAO INFORMADO|NAO INFORMADO|2            |NAO INFORMADO|NAO INFORMADO|NAO INFORMADO|\n",
      "|GE995CL54TINMOB-948054|ARMARIO MULTIUSO XANGAI 2 PT PRETO |126054090 |ARMARIO MULTIUSO CASAL XANGAI C 2 PORTAS BRANCO GENIALFLEX   |31.007034    |86.32979845673997|300.02     |ARMARIOS BALCOES GUARDA ROUPAS ESTANTES RACKS E PAINEIS DE TV|GENIALFLEX   |BRANCO       |NAO INFORMADO|NAO INFORMADO|2            |NAO INFORMADO|NAO INFORMADO|NAO INFORMADO|\n",
      "|GE995CL54TINMOB-948054|ARMARIO MULTIUSO XANGAI 2 PT PRETO |74253741  |ARMARIO MULTIUSO 2 PORTAS XANGAI GENIALFLEX PRETO            |29.519909    |82.18934434139376|169.62     |ARMARIOS BALCOES GUARDA ROUPAS ESTANTES RACKS E PAINEIS DE TV|NAO INFORMADO|PRETO        |NAO INFORMADO|NAO INFORMADO|2            |NAO INFORMADO|NAO INFORMADO|NAO INFORMADO|\n",
      "+----------------------+-----------------------------------+----------+-------------------------------------------------------------+-------------+-----------------+-----------+-------------------------------------------------------------+-------------+-------------+-------------+-------------+-------------+-------------+-------------+-------------+\n",
      "only showing top 20 rows\n",
      "\n"
     ]
    }
   ],
   "source": [
    "df_result.show(truncate=False)"
   ]
  },
  {
   "cell_type": "code",
   "execution_count": 16,
   "metadata": {},
   "outputs": [
    {
     "name": "stdout",
     "output_type": "stream",
     "text": [
      "Número de resultados retornado: 990\n"
     ]
    }
   ],
   "source": [
    "print('Número de resultados retornado:', f'{df_result.count():,}')"
   ]
  }
 ],
 "metadata": {
  "kernelspec": {
   "display_name": "Python 3",
   "language": "python",
   "name": "python3"
  },
  "language_info": {
   "codemirror_mode": {
    "name": "ipython",
    "version": 3
   },
   "file_extension": ".py",
   "mimetype": "text/x-python",
   "name": "python",
   "nbconvert_exporter": "python",
   "pygments_lexer": "ipython3",
   "version": "3.9.13"
  }
 },
 "nbformat": 4,
 "nbformat_minor": 2
}
