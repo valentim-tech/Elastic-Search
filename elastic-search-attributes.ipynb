{
 "cells": [
  {
   "cell_type": "markdown",
   "metadata": {},
   "source": [
    "### Installing Dependencies"
   ]
  },
  {
   "cell_type": "code",
   "execution_count": 1,
   "metadata": {},
   "outputs": [
    {
     "name": "stdout",
     "output_type": "stream",
     "text": [
      "Requirement already satisfied: asttokens==3.0.0 in c:\\users\\renato.valentim\\appdata\\roaming\\python\\python39\\site-packages (from -r requirements.txt (line 1)) (3.0.0)\n",
      "Requirement already satisfied: certifi==2025.1.31 in c:\\users\\renato.valentim\\appdata\\local\\programs\\python\\python39\\lib\\site-packages (from -r requirements.txt (line 2)) (2025.1.31)\n",
      "Requirement already satisfied: colorama==0.4.6 in c:\\users\\renato.valentim\\appdata\\roaming\\python\\python39\\site-packages (from -r requirements.txt (line 3)) (0.4.6)\n",
      "Requirement already satisfied: comm==0.2.2 in c:\\users\\renato.valentim\\appdata\\roaming\\python\\python39\\site-packages (from -r requirements.txt (line 4)) (0.2.2)\n",
      "Requirement already satisfied: debugpy==1.8.12 in c:\\users\\renato.valentim\\appdata\\roaming\\python\\python39\\site-packages (from -r requirements.txt (line 5)) (1.8.12)\n",
      "Requirement already satisfied: decorator==5.1.1 in c:\\users\\renato.valentim\\appdata\\roaming\\python\\python39\\site-packages (from -r requirements.txt (line 6)) (5.1.1)\n",
      "Requirement already satisfied: elastic-transport==8.17.0 in c:\\users\\renato.valentim\\appdata\\local\\programs\\python\\python39\\lib\\site-packages (from -r requirements.txt (line 7)) (8.17.0)\n",
      "Requirement already satisfied: elasticsearch==8.17.1 in c:\\users\\renato.valentim\\appdata\\local\\programs\\python\\python39\\lib\\site-packages (from -r requirements.txt (line 8)) (8.17.1)\n",
      "Requirement already satisfied: exceptiongroup==1.2.2 in c:\\users\\renato.valentim\\appdata\\roaming\\python\\python39\\site-packages (from -r requirements.txt (line 9)) (1.2.2)\n",
      "Requirement already satisfied: executing==2.2.0 in c:\\users\\renato.valentim\\appdata\\roaming\\python\\python39\\site-packages (from -r requirements.txt (line 10)) (2.2.0)\n",
      "Requirement already satisfied: importlib_metadata==8.6.1 in c:\\users\\renato.valentim\\appdata\\roaming\\python\\python39\\site-packages (from -r requirements.txt (line 11)) (8.6.1)\n",
      "Requirement already satisfied: ipykernel==6.29.5 in c:\\users\\renato.valentim\\appdata\\roaming\\python\\python39\\site-packages (from -r requirements.txt (line 12)) (6.29.5)\n",
      "Requirement already satisfied: ipython==8.18.1 in c:\\users\\renato.valentim\\appdata\\roaming\\python\\python39\\site-packages (from -r requirements.txt (line 13)) (8.18.1)\n",
      "Requirement already satisfied: jedi==0.19.2 in c:\\users\\renato.valentim\\appdata\\roaming\\python\\python39\\site-packages (from -r requirements.txt (line 14)) (0.19.2)\n",
      "Requirement already satisfied: jupyter_client==8.6.3 in c:\\users\\renato.valentim\\appdata\\roaming\\python\\python39\\site-packages (from -r requirements.txt (line 15)) (8.6.3)\n",
      "Requirement already satisfied: jupyter_core==5.7.2 in c:\\users\\renato.valentim\\appdata\\roaming\\python\\python39\\site-packages (from -r requirements.txt (line 16)) (5.7.2)\n",
      "Requirement already satisfied: matplotlib-inline==0.1.7 in c:\\users\\renato.valentim\\appdata\\roaming\\python\\python39\\site-packages (from -r requirements.txt (line 17)) (0.1.7)\n",
      "Requirement already satisfied: nest-asyncio==1.6.0 in c:\\users\\renato.valentim\\appdata\\roaming\\python\\python39\\site-packages (from -r requirements.txt (line 18)) (1.6.0)\n",
      "Requirement already satisfied: numpy==2.0.2 in c:\\users\\renato.valentim\\appdata\\local\\programs\\python\\python39\\lib\\site-packages (from -r requirements.txt (line 19)) (2.0.2)\n",
      "Requirement already satisfied: packaging==24.2 in c:\\users\\renato.valentim\\appdata\\roaming\\python\\python39\\site-packages (from -r requirements.txt (line 20)) (24.2)\n",
      "Requirement already satisfied: pandas==2.2.3 in c:\\users\\renato.valentim\\appdata\\local\\programs\\python\\python39\\lib\\site-packages (from -r requirements.txt (line 21)) (2.2.3)\n",
      "Requirement already satisfied: parso==0.8.4 in c:\\users\\renato.valentim\\appdata\\roaming\\python\\python39\\site-packages (from -r requirements.txt (line 22)) (0.8.4)\n",
      "Requirement already satisfied: platformdirs==4.3.6 in c:\\users\\renato.valentim\\appdata\\roaming\\python\\python39\\site-packages (from -r requirements.txt (line 23)) (4.3.6)\n",
      "Requirement already satisfied: prompt_toolkit==3.0.50 in c:\\users\\renato.valentim\\appdata\\roaming\\python\\python39\\site-packages (from -r requirements.txt (line 24)) (3.0.50)\n",
      "Requirement already satisfied: psutil==7.0.0 in c:\\users\\renato.valentim\\appdata\\roaming\\python\\python39\\site-packages (from -r requirements.txt (line 25)) (7.0.0)\n",
      "Requirement already satisfied: pure_eval==0.2.3 in c:\\users\\renato.valentim\\appdata\\roaming\\python\\python39\\site-packages (from -r requirements.txt (line 26)) (0.2.3)\n",
      "Requirement already satisfied: py4j==0.10.9.7 in c:\\users\\renato.valentim\\appdata\\local\\programs\\python\\python39\\lib\\site-packages (from -r requirements.txt (line 27)) (0.10.9.7)\n",
      "Requirement already satisfied: Pygments==2.19.1 in c:\\users\\renato.valentim\\appdata\\roaming\\python\\python39\\site-packages (from -r requirements.txt (line 28)) (2.19.1)\n",
      "Requirement already satisfied: pyspark==3.5.4 in c:\\users\\renato.valentim\\appdata\\local\\programs\\python\\python39\\lib\\site-packages (from -r requirements.txt (line 29)) (3.5.4)\n",
      "Requirement already satisfied: python-dateutil==2.9.0.post0 in c:\\users\\renato.valentim\\appdata\\roaming\\python\\python39\\site-packages (from -r requirements.txt (line 30)) (2.9.0.post0)\n",
      "Requirement already satisfied: pytz==2025.1 in c:\\users\\renato.valentim\\appdata\\local\\programs\\python\\python39\\lib\\site-packages (from -r requirements.txt (line 31)) (2025.1)\n",
      "Requirement already satisfied: pywin32==308 in c:\\users\\renato.valentim\\appdata\\roaming\\python\\python39\\site-packages (from -r requirements.txt (line 32)) (308)\n",
      "Requirement already satisfied: pyzmq==26.2.1 in c:\\users\\renato.valentim\\appdata\\roaming\\python\\python39\\site-packages (from -r requirements.txt (line 33)) (26.2.1)\n",
      "Requirement already satisfied: six==1.17.0 in c:\\users\\renato.valentim\\appdata\\roaming\\python\\python39\\site-packages (from -r requirements.txt (line 34)) (1.17.0)\n",
      "Requirement already satisfied: stack-data==0.6.3 in c:\\users\\renato.valentim\\appdata\\roaming\\python\\python39\\site-packages (from -r requirements.txt (line 35)) (0.6.3)\n",
      "Requirement already satisfied: tornado==6.4.2 in c:\\users\\renato.valentim\\appdata\\roaming\\python\\python39\\site-packages (from -r requirements.txt (line 36)) (6.4.2)\n",
      "Requirement already satisfied: tqdm==4.67.1 in c:\\users\\renato.valentim\\appdata\\local\\programs\\python\\python39\\lib\\site-packages (from -r requirements.txt (line 37)) (4.67.1)\n",
      "Requirement already satisfied: traitlets==5.14.3 in c:\\users\\renato.valentim\\appdata\\roaming\\python\\python39\\site-packages (from -r requirements.txt (line 38)) (5.14.3)\n",
      "Requirement already satisfied: typing_extensions==4.12.2 in c:\\users\\renato.valentim\\appdata\\roaming\\python\\python39\\site-packages (from -r requirements.txt (line 39)) (4.12.2)\n",
      "Requirement already satisfied: tzdata==2025.1 in c:\\users\\renato.valentim\\appdata\\local\\programs\\python\\python39\\lib\\site-packages (from -r requirements.txt (line 40)) (2025.1)\n",
      "Requirement already satisfied: Unidecode==1.3.8 in c:\\users\\renato.valentim\\appdata\\local\\programs\\python\\python39\\lib\\site-packages (from -r requirements.txt (line 41)) (1.3.8)\n",
      "Requirement already satisfied: urllib3==2.3.0 in c:\\users\\renato.valentim\\appdata\\local\\programs\\python\\python39\\lib\\site-packages (from -r requirements.txt (line 42)) (2.3.0)\n",
      "Requirement already satisfied: wcwidth==0.2.13 in c:\\users\\renato.valentim\\appdata\\roaming\\python\\python39\\site-packages (from -r requirements.txt (line 43)) (0.2.13)\n",
      "Requirement already satisfied: zipp==3.21.0 in c:\\users\\renato.valentim\\appdata\\roaming\\python\\python39\\site-packages (from -r requirements.txt (line 44)) (3.21.0)\n",
      "Note: you may need to restart the kernel to use updated packages.\n"
     ]
    },
    {
     "name": "stderr",
     "output_type": "stream",
     "text": [
      "WARNING: You are using pip version 22.0.4; however, version 25.0.1 is available.\n",
      "You should consider upgrading via the 'c:\\Users\\renato.valentim\\AppData\\Local\\Programs\\Python\\Python39\\python.exe -m pip install --upgrade pip' command.\n"
     ]
    }
   ],
   "source": [
    "%pip install -r requirements.txt"
   ]
  },
  {
   "cell_type": "markdown",
   "metadata": {},
   "source": [
    "### Imports and Paths"
   ]
  },
  {
   "cell_type": "code",
   "execution_count": 2,
   "metadata": {},
   "outputs": [],
   "source": [
    "from utils import *"
   ]
  },
  {
   "cell_type": "code",
   "execution_count": 3,
   "metadata": {},
   "outputs": [],
   "source": [
    "CATALOG_PATH = f\"{MAIN_PATH}/base_catalogo_mobly_enriquecida_12032025.csv\""
   ]
  },
  {
   "cell_type": "markdown",
   "metadata": {},
   "source": [
    "### Loading Query Data"
   ]
  },
  {
   "cell_type": "code",
   "execution_count": 4,
   "metadata": {},
   "outputs": [],
   "source": [
    "df_catalog = (\n",
    "  spark.read\n",
    "  .option(\"header\", True)\n",
    "  .option(\"inferSchema\", True)\n",
    "  .option(\"multiline\", True)\n",
    "  .option(\"quote\", '\"')\n",
    "  .option(\"escape\", \"\\\\\")\n",
    "  .option(\"sep\", \";\")\n",
    "  .option(\"ignoreLeadingWhiteSpace\", True)\n",
    "  .option(\"ignoreTrailingWhiteSpace\", True)\n",
    "  .csv(CATALOG_PATH)\n",
    "\n",
    "  # Transformações importantes das columns\n",
    "  .withColumnRenamed('Categoria', 'categoria')\n",
    "  .withColumnRenamed('Marca', 'marca')\n",
    "  .withColumnRenamed('Cor', 'cor')\n",
    "  .withColumnRenamed('Preço', 'preco_medio')\n",
    "  .withColumn(\"preco_medio\", f.regexp_replace(f.col(\"preco_medio\"), \"R\\\\$ \", \"\"))\n",
    "  .withColumn(\"preco_medio\", f.regexp_replace(f.col(\"preco_medio\"), \"\\\\.\", \"\"))\n",
    "  .withColumn(\"preco_medio\", f.regexp_replace(f.col(\"preco_medio\"), \",\", \".\"))\n",
    "  .withColumn('preco_medio', f.col('preco_medio').cast('double'))\n",
    "  .withColumnRenamed('Nome', 'desc_product')\n",
    "  .withColumnRenamed('SKU', 'sku')\n",
    "  .withColumn('sku', f.col('sku').cast(StringType()))\n",
    "  .withColumnRenamed('ATRIBUTO 3', 'atributo_1')\n",
    "  .withColumnRenamed('ATRIBUTO 4', 'atributo_2')\n",
    "  .withColumnRenamed('ATRIBUTO 5', 'atributo_3')\n",
    "  .withColumnRenamed('ATRIBUTO 6', 'atributo_4')\n",
    "  .withColumnRenamed('ATRIBUTO 7', 'atributo_5')\n",
    "  .withColumnRenamed('ATRIBUTO 8', 'atributo_6')\n",
    ")"
   ]
  },
  {
   "cell_type": "code",
   "execution_count": 5,
   "metadata": {},
   "outputs": [],
   "source": [
    "df = remove_accents_df(\n",
    "    df=df_catalog, \n",
    "    columns=[\n",
    "        \"desc_product\", \"categoria\", \"marca\", \"cor\", \n",
    "        \"atributo_1\", \"atributo_2\", \"atributo_3\", \n",
    "        \"atributo_4\", \"atributo_5\", \"atributo_6\"]\n",
    "    )\n",
    "df = convert_string_columns_to_upper(df)"
   ]
  },
  {
   "cell_type": "code",
   "execution_count": 6,
   "metadata": {},
   "outputs": [],
   "source": [
    "columns = [\"categoria\", \"marca\", \"cor\"]\n",
    "\n",
    "# Iterar por todas as colunas no DataFrame\n",
    "for column in columns:\n",
    "        # Aplicar a função para cada column\n",
    "        df = clean_text_column(df, column)"
   ]
  },
  {
   "cell_type": "markdown",
   "metadata": {},
   "source": [
    "### Performing Elastic Search"
   ]
  },
  {
   "cell_type": "code",
   "execution_count": 7,
   "metadata": {},
   "outputs": [],
   "source": [
    "df_rows = df.collect()"
   ]
  },
  {
   "cell_type": "code",
   "execution_count": 8,
   "metadata": {},
   "outputs": [
    {
     "name": "stderr",
     "output_type": "stream",
     "text": [
      "Searching: 100%|██████████| 142/142 [00:08<00:00, 17.13it/s]\n"
     ]
    }
   ],
   "source": [
    "NUM_RESULTS_PER_QUERY = 10\n",
    "final_results = perform_elastic_search_attributes(df_rows, num_results_per_query=NUM_RESULTS_PER_QUERY)"
   ]
  },
  {
   "cell_type": "markdown",
   "metadata": {},
   "source": [
    "### Saving Results in .CSV"
   ]
  },
  {
   "cell_type": "code",
   "execution_count": 9,
   "metadata": {},
   "outputs": [],
   "source": [
    "timestamp = datetime.now().strftime(\"%Y%m%d_%H%M\")\n",
    "output_path = f\"outputs/attributes_{NUM_RESULTS_PER_QUERY}_most_similar_descriptions_{timestamp}_.csv\""
   ]
  },
  {
   "cell_type": "code",
   "execution_count": 10,
   "metadata": {},
   "outputs": [],
   "source": [
    "column_names = [\n",
    "    'sku', 'catalog_desc', 'id_product', 'similar_desc', 'elastic_score', 'normalized_score', 'preco_medio', \n",
    "    'categoria', 'marca', 'cor', 'atributo_1', 'atributo_2', 'atributo_3', 'atributo_4', 'atributo_5', 'atributo_6'\n",
    "]\n",
    "\n",
    "save_csv(final_results, output_path, column_names)"
   ]
  },
  {
   "cell_type": "markdown",
   "metadata": {},
   "source": [
    "### Loading Final Results"
   ]
  },
  {
   "cell_type": "code",
   "execution_count": 45,
   "metadata": {},
   "outputs": [],
   "source": [
    "df_result = (\n",
    "    spark.read\n",
    "    .option(\"header\", True)\n",
    "    .option(\"inferSchema\", True)\n",
    "    .option(\"multiline\", True)\n",
    "    .option(\"quote\", '\"')\n",
    "    .option(\"escape\", \"\\\\\")\n",
    "    .option(\"sep\", \",\")\n",
    "    .option(\"ignoreLeadingWhiteSpace\", True)\n",
    "    .option(\"ignoreTrailingWhiteSpace\", True)\n",
    "    .csv(output_path)\n",
    ")"
   ]
  },
  {
   "cell_type": "code",
   "execution_count": null,
   "metadata": {},
   "outputs": [
    {
     "name": "stdout",
     "output_type": "stream",
     "text": [
      "+-------------+----------+--------------------+--------------------+-------------------+-----------+-----------------+-------------+--------------+---------------+-------------+-------------+------------------+----------+------------------+-------------+------------------+-------------+--------------------+-------------+------------------+-------------+------------------+----------+\n",
      "|  catalog_sku|id_product|        catalog_desc|        similar_desc|catalog_preco_medio|preco_medio|catalog_categoria|    categoria| catalog_marca|          marca|  catalog_cor|          cor|catalog_atributo_1|atributo_1|catalog_atributo_2|   atributo_2|catalog_atributo_3|   atributo_3|  catalog_atributo_4|   atributo_4|catalog_atributo_5|   atributo_5|catalog_atributo_6|atributo_6|\n",
      "+-------------+----------+--------------------+--------------------+-------------------+-----------+-----------------+-------------+--------------+---------------+-------------+-------------+------------------+----------+------------------+-------------+------------------+-------------+--------------------+-------------+------------------+-------------+------------------+----------+\n",
      "|7898602824031|  32939830|GUARDA-ROUPA CASA...|GUARDA ROUPA CASA...|            1029.98|    1108.85|    GUARDA-ROUPAS|GUARDA ROUPAS|sallêto móveis|  MOVEIS MALBEC|marrom branco|       MARROM|               sim|       SIM|           mdf/mdp|NAO INFORMADO|     não informado|NAO INFORMADO|208 cm x 185,5 cm...|NAO INFORMADO|                 4|NAO INFORMADO|                 3|         3|\n",
      "|7898602824031|  32939836|GUARDA-ROUPA CASA...|GUARDA ROUPA CASA...|            1029.98|    1123.38|    GUARDA-ROUPAS|GUARDA ROUPAS|sallêto móveis|         MOVEIS|marrom branco|       MARROM|               sim|       SIM|           mdf/mdp|NAO INFORMADO|     não informado|NAO INFORMADO|208 cm x 185,5 cm...|NAO INFORMADO|                 4|NAO INFORMADO|                 3|         3|\n",
      "|7898602824031|  38208872|GUARDA-ROUPA CASA...|GUARDA ROUPA CASA...|            1029.98|    1525.42|    GUARDA-ROUPAS|GUARDA ROUPAS|sallêto móveis|  MOVEIS BRANCO|marrom branco|       MARROM|               sim|       SIM|           mdf/mdp|NAO INFORMADO|     não informado|NAO INFORMADO|208 cm x 185,5 cm...|NAO INFORMADO|                 4|            4|                 3|         3|\n",
      "|7898602824031|  59899888|GUARDA-ROUPA CASA...|GUARDA ROUPA CASA...|            1029.98|    1356.88|    GUARDA-ROUPAS|GUARDA ROUPAS|sallêto móveis|         MOVEIS|marrom branco|       MARROM|               sim|       SIM|           mdf/mdp|NAO INFORMADO|     não informado|NAO INFORMADO|208 cm x 185,5 cm...|NAO INFORMADO|                 4|NAO INFORMADO|                 3|         3|\n",
      "|7898602824031|  69578910|GUARDA-ROUPA CASA...|GUARDA ROUPA CASA...|            1029.98|      950.9|    GUARDA-ROUPAS|GUARDA ROUPAS|sallêto móveis| SALLETO MOVEIS|marrom branco|       BRANCO|               sim|       SIM|           mdf/mdp|NAO INFORMADO|     não informado|NAO INFORMADO|208 cm x 185,5 cm...|NAO INFORMADO|                 4|            4|                 3|         3|\n",
      "|7898602824031|  88767915|GUARDA-ROUPA CASA...|GUARDA ROUPA CASA...|            1029.98|    1121.44|    GUARDA-ROUPAS|GUARDA ROUPAS|sallêto móveis|         MOVEIS|marrom branco|       MARROM|               sim|       SIM|           mdf/mdp|NAO INFORMADO|     não informado|NAO INFORMADO|208 cm x 185,5 cm...|NAO INFORMADO|                 4|            4|                 3|         3|\n",
      "|7898602824031|  90091166|GUARDA-ROUPA CASA...|GUARDA ROUPA CASA...|            1029.98|    1039.23|    GUARDA-ROUPAS|GUARDA ROUPAS|sallêto móveis| SALLETO MOVEIS|marrom branco|MARROM BRANCO|               sim|       SIM|           mdf/mdp|NAO INFORMADO|     não informado|NAO INFORMADO|208 cm x 185,5 cm...|NAO INFORMADO|                 4|            4|                 3|         3|\n",
      "|7898602824031|  91550617|GUARDA-ROUPA CASA...|GUARDA ROUPA CASA...|            1029.98|     934.43|    GUARDA-ROUPAS|GUARDA ROUPAS|sallêto móveis| SALLETO MOVEIS|marrom branco|       MARROM|               sim|       SIM|           mdf/mdp|NAO INFORMADO|     não informado|NAO INFORMADO|208 cm x 185,5 cm...|NAO INFORMADO|                 4|            4|                 3|         3|\n",
      "|7898602824031|  93866700|GUARDA-ROUPA CASA...|GUARDA ROUPA CASA...|            1029.98|    1355.18|    GUARDA-ROUPAS|GUARDA ROUPAS|sallêto móveis| SALLETO MOVEIS|marrom branco|       BRANCO|               sim|       SIM|           mdf/mdp|NAO INFORMADO|     não informado|NAO INFORMADO|208 cm x 185,5 cm...|NAO INFORMADO|                 4|            4|                 3|         3|\n",
      "|7898602824031| 110995240|GUARDA-ROUPA CASA...|GUARDA ROUPA CASA...|            1029.98|    1225.16|    GUARDA-ROUPAS|GUARDA ROUPAS|sallêto móveis|PANORAMA MOVEIS|marrom branco|       MARROM|               sim|       SIM|           mdf/mdp|NAO INFORMADO|     não informado|NAO INFORMADO|208 cm x 185,5 cm...|NAO INFORMADO|                 4|            3|                 3|         3|\n",
      "|7898602825663|  32939837|GUARDA-ROUPA CASA...|GUARDA ROUPA CASA...|            1407.02|    1219.07|    GUARDA-ROUPAS|GUARDA ROUPAS| não informado|  MOVEIS BRANCO|não informado|NAO INFORMADO|     não informado|       SIM|     não informado|     ESPRESSO|     não informado|NAO INFORMADO|       não informado|NAO INFORMADO|     não informado|NAO INFORMADO|     não informado|         3|\n",
      "|7898602825663|  48186861|GUARDA-ROUPA CASA...|GUARDA ROUPA CASA...|            1407.02|    1251.75|    GUARDA-ROUPAS|GUARDA ROUPAS| não informado|  NAO INFORMADO|não informado|       MARROM|     não informado|       SIM|     não informado|NAO INFORMADO|     não informado|NAO INFORMADO|       não informado|NAO INFORMADO|     não informado|NAO INFORMADO|     não informado|         3|\n",
      "|7898602825663|  49424594|GUARDA-ROUPA CASA...|GUARDA ROUPA CASA...|            1407.02|    1423.02|    GUARDA-ROUPAS|GUARDA ROUPAS| não informado|  NAO INFORMADO|não informado|       MARROM|     não informado|       SIM|     não informado|NAO INFORMADO|     não informado|NAO INFORMADO|       não informado|NAO INFORMADO|     não informado|NAO INFORMADO|     não informado|         3|\n",
      "|7898602825663|  55762848|GUARDA-ROUPA CASA...|GUARDA ROUPA CASA...|            1407.02|    1295.34|    GUARDA-ROUPAS|GUARDA ROUPAS| não informado|  NAO INFORMADO|não informado|       MARROM|     não informado|       SIM|     não informado|NAO INFORMADO|     não informado|NAO INFORMADO|       não informado|NAO INFORMADO|     não informado|NAO INFORMADO|     não informado|         3|\n",
      "|7898602825663|  60406325|GUARDA-ROUPA CASA...|GUARDA ROUPA CASA...|            1407.02|    1341.69|    GUARDA-ROUPAS|GUARDA ROUPAS| não informado|  NAO INFORMADO|não informado|       MARROM|     não informado|       SIM|     não informado|NAO INFORMADO|     não informado|NAO INFORMADO|       não informado|NAO INFORMADO|     não informado|NAO INFORMADO|     não informado|         3|\n",
      "|7898602825663|  77075312|GUARDA-ROUPA CASA...|GUARDA ROUPA CASA...|            1407.02|    1476.84|    GUARDA-ROUPAS|GUARDA ROUPAS| não informado|  NAO INFORMADO|não informado|       MARROM|     não informado|       SIM|     não informado|NAO INFORMADO|     não informado|NAO INFORMADO|       não informado|NAO INFORMADO|     não informado|NAO INFORMADO|     não informado|         3|\n",
      "|7898602825663|  89847928|GUARDA-ROUPA CASA...|GUARDA ROUPA CASA...|            1407.02|    1410.87|    GUARDA-ROUPAS|GUARDA ROUPAS| não informado|  NAO INFORMADO|não informado|       MARROM|     não informado|       SIM|     não informado|NAO INFORMADO|     não informado|NAO INFORMADO|       não informado|NAO INFORMADO|     não informado|NAO INFORMADO|     não informado|         3|\n",
      "|7898602825663| 106285545|GUARDA-ROUPA CASA...|GUARDA ROUPA ANJO...|            1407.02|    1299.39|    GUARDA-ROUPAS|GUARDA ROUPAS| não informado|  NAO INFORMADO|não informado|NAO INFORMADO|     não informado|       SIM|     não informado|NAO INFORMADO|     não informado|NAO INFORMADO|       não informado|NAO INFORMADO|     não informado|NAO INFORMADO|     não informado|         3|\n",
      "|7898602825663| 112199455|GUARDA-ROUPA CASA...|GUARDA ROUPA 3 PO...|            1407.02|    1284.54|    GUARDA-ROUPAS|GUARDA ROUPAS| não informado|  NAO INFORMADO|não informado|NAO INFORMADO|     não informado|       SIM|     não informado|NAO INFORMADO|     não informado|NAO INFORMADO|       não informado|NAO INFORMADO|     não informado|NAO INFORMADO|     não informado|         3|\n",
      "|7898602825663| 125553229|GUARDA-ROUPA CASA...|GUARDA ROUPA CASA...|            1407.02|     1460.0|    GUARDA-ROUPAS|GUARDA ROUPAS| não informado|  NAO INFORMADO|não informado|NAO INFORMADO|     não informado|       SIM|     não informado|NAO INFORMADO|     não informado|NAO INFORMADO|       não informado|NAO INFORMADO|     não informado|NAO INFORMADO|     não informado|         3|\n",
      "+-------------+----------+--------------------+--------------------+-------------------+-----------+-----------------+-------------+--------------+---------------+-------------+-------------+------------------+----------+------------------+-------------+------------------+-------------+--------------------+-------------+------------------+-------------+------------------+----------+\n",
      "only showing top 20 rows\n",
      "\n"
     ]
    }
   ],
   "source": [
    "df_delivery = (\n",
    "    df_result.alias('df_result').join(df_catalog.alias('df_catalog'), on=\"sku\", how=\"inner\")\n",
    "    .select(\n",
    "        f.col(\"df_result.sku\").alias(\"catalog_sku\"), \"df_result.id_product\", \n",
    "        \"df_result.catalog_desc\", \"df_result.similar_desc\",\n",
    "        \"df_result.similar_desc\", \"df_result.elastic_score\",\n",
    "        f.col(\"df_catalog.preco_medio\").alias(\"catalog_preco_medio\"), \"df_result.preco_medio\", \n",
    "        f.col(\"df_catalog.categoria\").alias(\"catalog_categoria\"), \"df_result.categoria\",\n",
    "        f.col(\"df_catalog.marca\").alias(\"catalog_marca\"), \"df_result.marca\",\n",
    "        f.col(\"df_catalog.cor\").alias(\"catalog_cor\"), \"df_result.cor\",\n",
    "        f.col(\"df_catalog.atributo_1\").alias(\"catalog_atributo_1\"), \"df_result.atributo_1\",\n",
    "        f.col(\"df_catalog.atributo_2\").alias(\"catalog_atributo_2\"), \"df_result.atributo_2\",\n",
    "        f.col(\"df_catalog.atributo_3\").alias(\"catalog_atributo_3\"), \"df_result.atributo_3\",\n",
    "        f.col(\"df_catalog.atributo_4\").alias(\"catalog_atributo_4\"), \"df_result.atributo_4\",\n",
    "        f.col(\"df_catalog.atributo_5\").alias(\"catalog_atributo_5\"), \"df_result.atributo_5\",\n",
    "        f.col(\"df_catalog.atributo_6\").alias(\"catalog_atributo_6\"), \"df_result.atributo_6\"\n",
    "    )\n",
    "    .dropDuplicates([\"catalog_sku\", \"id_product\"])\n",
    ")\n",
    "\n",
    "df_delivery.show()"
   ]
  },
  {
   "cell_type": "code",
   "execution_count": 47,
   "metadata": {},
   "outputs": [
    {
     "name": "stdout",
     "output_type": "stream",
     "text": [
      "Número de resultados retornado: 1,333\n"
     ]
    }
   ],
   "source": [
    "print('Número de resultados retornado:', f\"{df_delivery.count():,}\")"
   ]
  },
  {
   "cell_type": "code",
   "execution_count": null,
   "metadata": {},
   "outputs": [],
   "source": [
    "\n",
    "timestamp = datetime.now().strftime(\"%Y%m%d_%H%M\")\n",
    "refined_output_path = f\"{ELASTIC_PATH}/outputs/refined_outputs/{timestamp}_elastic_search_attributes.csv\""
   ]
  },
  {
   "cell_type": "code",
   "execution_count": 49,
   "metadata": {},
   "outputs": [],
   "source": [
    "# Converter para Pandas\n",
    "df_pd = df_delivery.toPandas()\n",
    "\n",
    "# Salvar como CSV\n",
    "df_pd.to_csv(refined_output_path, index=False)\n"
   ]
  }
 ],
 "metadata": {
  "kernelspec": {
   "display_name": "Python 3",
   "language": "python",
   "name": "python3"
  },
  "language_info": {
   "codemirror_mode": {
    "name": "ipython",
    "version": 3
   },
   "file_extension": ".py",
   "mimetype": "text/x-python",
   "name": "python",
   "nbconvert_exporter": "python",
   "pygments_lexer": "ipython3",
   "version": "3.9.13"
  }
 },
 "nbformat": 4,
 "nbformat_minor": 2
}
